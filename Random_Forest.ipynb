{
 "cells": [
  {
   "cell_type": "code",
   "execution_count": 2,
   "id": "c429f7b8",
   "metadata": {},
   "outputs": [],
   "source": [
    "import numpy as numpy\n",
    "import pandas as pd\n",
    "import matplotlib as mpl\n",
    "from sklearn.metrics import confusion_matrix\n",
    "from sklearn.ensemble import RandomForestClassifier\n",
    "import seaborn as sns\n",
    "from sklearn.model_selection import StratifiedKFold, cross_val_score, RandomizedSearchCV\n",
    "import joblib"
   ]
  },
  {
   "cell_type": "code",
   "execution_count": 3,
   "id": "1688e0bb",
   "metadata": {},
   "outputs": [],
   "source": [
    "combined_train = pd.read_csv(\"combined_train.csv\")\n",
    "combined_test = pd.read_csv(\"combined_test.csv\")\n",
    "train_metadata = pd.read_csv(\"train/Features/train_metadata.csv\")\n",
    "test_metadata = pd.read_csv(\"test/Features/test_metadata.csv\")"
   ]
  },
  {
   "cell_type": "code",
   "execution_count": 4,
   "id": "6281fa36",
   "metadata": {},
   "outputs": [],
   "source": [
    "class_ids = train_metadata[\"ClassId\"]\n",
    "test_ids = test_metadata['id']\n",
    "combined_train = combined_train.drop(\"image_path\", axis = 1)\n",
    "combined_test = combined_test.drop(\"image_path\", axis=1)"
   ]
  },
  {
   "cell_type": "markdown",
   "id": "5b3662e3",
   "metadata": {},
   "source": [
    "Using a 'balanced' split after stratified folding doesn't really improve much"
   ]
  },
  {
   "cell_type": "code",
   "execution_count": 6,
   "id": "17ea0f12",
   "metadata": {},
   "outputs": [
    {
     "name": "stdout",
     "output_type": "stream",
     "text": [
      "[0.819672131147541, 0.8041894353369763, 0.8360655737704918, 0.7994530537830447, 0.8258887876025525]\n",
      "0.8170537963281213\n",
      "[0.8096539162112932, 0.7987249544626593, 0.8278688524590164, 0.7912488605287147, 0.8222424794895169]\n",
      "0.8099478126302401\n"
     ]
    }
   ],
   "source": [
    "skf = StratifiedKFold()\n",
    "scores = []\n",
    "for train, validation in skf.split(combined_train, class_ids):\n",
    "    model = RandomForestClassifier(n_estimators=1000, class_weight='balanced', n_jobs=8, criterion='entropy')\n",
    "    model.fit(combined_train.iloc[train], class_ids[train])\n",
    "    scores.append(model.score(combined_train.iloc[validation], class_ids[validation]))\n",
    "print(scores)\n",
    "print(sum(scores)/len(scores))\n",
    "scores = []\n",
    "for train, validation in skf.split(combined_train, class_ids):\n",
    "    model = RandomForestClassifier(n_estimators=1000, n_jobs=8, criterion='entropy')\n",
    "    model.fit(combined_train.iloc[train], class_ids[train])\n",
    "    scores.append(model.score(combined_train.iloc[validation], class_ids[validation]))\n",
    "print(scores)\n",
    "print(sum(scores)/len(scores))"
   ]
  },
  {
   "cell_type": "markdown",
   "id": "98876179",
   "metadata": {},
   "source": [
    "Now for some hyperparameter tuning "
   ]
  },
  {
   "cell_type": "code",
   "execution_count": null,
   "id": "dc34bd61",
   "metadata": {},
   "outputs": [
    {
     "name": "stdout",
     "output_type": "stream",
     "text": [
      "Fitting 3 folds for each of 100 candidates, totalling 300 fits\n"
     ]
    },
    {
     "data": {
      "text/plain": [
       "['random_forest_random_search']"
      ]
     },
     "execution_count": 7,
     "metadata": {},
     "output_type": "execute_result"
    }
   ],
   "source": [
    "n_estimators =  [50, 200, 500, 1000, 2000]\n",
    "max_features = [0.2, 0.5, 'sqrt', \"log2\"]\n",
    "max_depth = list(range(10, 111, 10))\n",
    "max_depth.append(None)\n",
    "min_samples_split = [2, 5, 10]\n",
    "min_samples_leaf = [1, 2, 4]\n",
    "bootstrap = [True, False]\n",
    "random_grid = {'n_estimators': n_estimators,\n",
    "               'max_features': max_features,\n",
    "               'max_depth': max_depth,\n",
    "               'min_samples_split': min_samples_split,\n",
    "               'min_samples_leaf': min_samples_leaf,\n",
    "               'bootstrap': bootstrap}\n",
    "\n",
    "model = RandomForestClassifier()\n",
    "rf_random = RandomizedSearchCV(estimator = model, param_distributions = random_grid, n_iter = 100, cv = 3, verbose=2, n_jobs = 8, error_score='raise')\n",
    "rf_random.fit(combined_train, class_ids)\n",
    "joblib.dump(rf_random, \"random_forest_random_search.pkl\")"
   ]
  },
  {
   "cell_type": "code",
   "execution_count": 27,
   "id": "f4342597",
   "metadata": {},
   "outputs": [],
   "source": [
    "newnew = pd.DataFrame(rf_random.cv_results_)"
   ]
  },
  {
   "cell_type": "code",
   "execution_count": 34,
   "id": "7960d954",
   "metadata": {},
   "outputs": [
    {
     "data": {
      "text/html": [
       "<div>\n",
       "<style scoped>\n",
       "    .dataframe tbody tr th:only-of-type {\n",
       "        vertical-align: middle;\n",
       "    }\n",
       "\n",
       "    .dataframe tbody tr th {\n",
       "        vertical-align: top;\n",
       "    }\n",
       "\n",
       "    .dataframe thead th {\n",
       "        text-align: right;\n",
       "    }\n",
       "</style>\n",
       "<table border=\"1\" class=\"dataframe\">\n",
       "  <thead>\n",
       "    <tr style=\"text-align: right;\">\n",
       "      <th></th>\n",
       "      <th>mean_fit_time</th>\n",
       "      <th>std_fit_time</th>\n",
       "      <th>mean_score_time</th>\n",
       "      <th>std_score_time</th>\n",
       "      <th>param_n_estimators</th>\n",
       "      <th>param_min_samples_split</th>\n",
       "      <th>param_min_samples_leaf</th>\n",
       "      <th>param_max_features</th>\n",
       "      <th>param_max_depth</th>\n",
       "      <th>param_bootstrap</th>\n",
       "      <th>params</th>\n",
       "      <th>split0_test_score</th>\n",
       "      <th>split1_test_score</th>\n",
       "      <th>split2_test_score</th>\n",
       "      <th>mean_test_score</th>\n",
       "      <th>std_test_score</th>\n",
       "      <th>rank_test_score</th>\n",
       "    </tr>\n",
       "  </thead>\n",
       "  <tbody>\n",
       "    <tr>\n",
       "      <th>28</th>\n",
       "      <td>519.720850</td>\n",
       "      <td>2.382786</td>\n",
       "      <td>1.112693</td>\n",
       "      <td>0.028023</td>\n",
       "      <td>2000</td>\n",
       "      <td>2</td>\n",
       "      <td>1</td>\n",
       "      <td>0.2</td>\n",
       "      <td>50</td>\n",
       "      <td>False</td>\n",
       "      <td>{'n_estimators': 2000, 'min_samples_split': 2,...</td>\n",
       "      <td>0.803825</td>\n",
       "      <td>0.802624</td>\n",
       "      <td>0.802078</td>\n",
       "      <td>0.802842</td>\n",
       "      <td>0.000730</td>\n",
       "      <td>1</td>\n",
       "    </tr>\n",
       "    <tr>\n",
       "      <th>21</th>\n",
       "      <td>107.869138</td>\n",
       "      <td>0.292672</td>\n",
       "      <td>0.533664</td>\n",
       "      <td>0.002658</td>\n",
       "      <td>1000</td>\n",
       "      <td>5</td>\n",
       "      <td>1</td>\n",
       "      <td>sqrt</td>\n",
       "      <td>20</td>\n",
       "      <td>False</td>\n",
       "      <td>{'n_estimators': 1000, 'min_samples_split': 5,...</td>\n",
       "      <td>0.786885</td>\n",
       "      <td>0.792236</td>\n",
       "      <td>0.788956</td>\n",
       "      <td>0.789359</td>\n",
       "      <td>0.002203</td>\n",
       "      <td>2</td>\n",
       "    </tr>\n",
       "    <tr>\n",
       "      <th>5</th>\n",
       "      <td>107.338174</td>\n",
       "      <td>0.566832</td>\n",
       "      <td>0.553966</td>\n",
       "      <td>0.004020</td>\n",
       "      <td>1000</td>\n",
       "      <td>5</td>\n",
       "      <td>2</td>\n",
       "      <td>sqrt</td>\n",
       "      <td>100</td>\n",
       "      <td>False</td>\n",
       "      <td>{'n_estimators': 1000, 'min_samples_split': 5,...</td>\n",
       "      <td>0.787978</td>\n",
       "      <td>0.787862</td>\n",
       "      <td>0.785675</td>\n",
       "      <td>0.787172</td>\n",
       "      <td>0.001059</td>\n",
       "      <td>3</td>\n",
       "    </tr>\n",
       "    <tr>\n",
       "      <th>74</th>\n",
       "      <td>495.678773</td>\n",
       "      <td>2.330150</td>\n",
       "      <td>1.241305</td>\n",
       "      <td>0.041978</td>\n",
       "      <td>2000</td>\n",
       "      <td>5</td>\n",
       "      <td>2</td>\n",
       "      <td>0.2</td>\n",
       "      <td>110</td>\n",
       "      <td>False</td>\n",
       "      <td>{'n_estimators': 2000, 'min_samples_split': 5,...</td>\n",
       "      <td>0.785792</td>\n",
       "      <td>0.784582</td>\n",
       "      <td>0.786769</td>\n",
       "      <td>0.785714</td>\n",
       "      <td>0.000895</td>\n",
       "      <td>4</td>\n",
       "    </tr>\n",
       "    <tr>\n",
       "      <th>51</th>\n",
       "      <td>66.670618</td>\n",
       "      <td>0.105619</td>\n",
       "      <td>0.606207</td>\n",
       "      <td>0.028337</td>\n",
       "      <td>1000</td>\n",
       "      <td>2</td>\n",
       "      <td>2</td>\n",
       "      <td>log2</td>\n",
       "      <td>None</td>\n",
       "      <td>False</td>\n",
       "      <td>{'n_estimators': 1000, 'min_samples_split': 2,...</td>\n",
       "      <td>0.785792</td>\n",
       "      <td>0.787862</td>\n",
       "      <td>0.779114</td>\n",
       "      <td>0.784256</td>\n",
       "      <td>0.003733</td>\n",
       "      <td>5</td>\n",
       "    </tr>\n",
       "  </tbody>\n",
       "</table>\n",
       "</div>"
      ],
      "text/plain": [
       "    mean_fit_time  std_fit_time  mean_score_time  std_score_time  \\\n",
       "28     519.720850      2.382786         1.112693        0.028023   \n",
       "21     107.869138      0.292672         0.533664        0.002658   \n",
       "5      107.338174      0.566832         0.553966        0.004020   \n",
       "74     495.678773      2.330150         1.241305        0.041978   \n",
       "51      66.670618      0.105619         0.606207        0.028337   \n",
       "\n",
       "    param_n_estimators  param_min_samples_split  param_min_samples_leaf  \\\n",
       "28                2000                        2                       1   \n",
       "21                1000                        5                       1   \n",
       "5                 1000                        5                       2   \n",
       "74                2000                        5                       2   \n",
       "51                1000                        2                       2   \n",
       "\n",
       "   param_max_features param_max_depth  param_bootstrap  \\\n",
       "28                0.2              50            False   \n",
       "21               sqrt              20            False   \n",
       "5                sqrt             100            False   \n",
       "74                0.2             110            False   \n",
       "51               log2            None            False   \n",
       "\n",
       "                                               params  split0_test_score  \\\n",
       "28  {'n_estimators': 2000, 'min_samples_split': 2,...           0.803825   \n",
       "21  {'n_estimators': 1000, 'min_samples_split': 5,...           0.786885   \n",
       "5   {'n_estimators': 1000, 'min_samples_split': 5,...           0.787978   \n",
       "74  {'n_estimators': 2000, 'min_samples_split': 5,...           0.785792   \n",
       "51  {'n_estimators': 1000, 'min_samples_split': 2,...           0.785792   \n",
       "\n",
       "    split1_test_score  split2_test_score  mean_test_score  std_test_score  \\\n",
       "28           0.802624           0.802078         0.802842        0.000730   \n",
       "21           0.792236           0.788956         0.789359        0.002203   \n",
       "5            0.787862           0.785675         0.787172        0.001059   \n",
       "74           0.784582           0.786769         0.785714        0.000895   \n",
       "51           0.787862           0.779114         0.784256        0.003733   \n",
       "\n",
       "    rank_test_score  \n",
       "28                1  \n",
       "21                2  \n",
       "5                 3  \n",
       "74                4  \n",
       "51                5  "
      ]
     },
     "execution_count": 34,
     "metadata": {},
     "output_type": "execute_result"
    }
   ],
   "source": [
    "newnew.sort_values(by=\"mean_test_score\", ascending=False).head()"
   ]
  },
  {
   "cell_type": "markdown",
   "id": "e655d9e6",
   "metadata": {},
   "source": [
    "Took me 100mins to run and its not even really better - test set performance pretty much the same too."
   ]
  },
  {
   "cell_type": "code",
   "execution_count": 26,
   "id": "b677291f",
   "metadata": {},
   "outputs": [],
   "source": [
    "bestRF = rf_random.best_estimator_"
   ]
  },
  {
   "cell_type": "code",
   "execution_count": 13,
   "id": "2b8ae007",
   "metadata": {},
   "outputs": [],
   "source": [
    "def printSigns(accuracies, top_n, reverse=False):\n",
    "    if reverse == True:\n",
    "        accuracies = list(reversed(accuracies))\n",
    "    for i in range(top_n):\n",
    "        classID = accuracies[i][1]\n",
    "        mpl.pyplot.subplot(2,top_n//2, i + 1)\n",
    "        img = mpl.image.imread(f'Sign Images/{classID}.png')\n",
    "        mpl.pyplot.imshow(img)\n",
    "    mpl.pyplot.show()"
   ]
  },
  {
   "cell_type": "markdown",
   "id": "869627dd",
   "metadata": {},
   "source": [
    "No clue why the below code is broken! (Probably all the validation is contained within the train somehow)"
   ]
  },
  {
   "cell_type": "code",
   "execution_count": 18,
   "id": "5ce0eda8",
   "metadata": {},
   "outputs": [
    {
     "data": {
      "image/png": "[encoded data removed]",
      "text/plain": [
       "<Figure size 640x480 with 2 Axes>"
      ]
     },
     "metadata": {},
     "output_type": "display_data"
    }
   ],
   "source": [
    "cm = confusion_matrix(class_ids[validation], bestRF.predict(combined_train.iloc[validation]), normalize='true')\n",
    "sns.heatmap(cm)\n",
    "class_accuracies = sorted((cm[i][i], i) for i in range(43))"
   ]
  },
  {
   "cell_type": "code",
   "execution_count": 19,
   "id": "f9bd7f77",
   "metadata": {},
   "outputs": [
    {
     "data": {
      "image/png": "[encoded data removed]",
      "text/plain": [
       "<Figure size 640x480 with 20 Axes>"
      ]
     },
     "metadata": {},
     "output_type": "display_data"
    }
   ],
   "source": [
    "printSigns(class_accuracies, 20)"
   ]
  },
  {
   "cell_type": "code",
   "execution_count": 20,
   "id": "07804067",
   "metadata": {},
   "outputs": [],
   "source": [
    "output = pd.DataFrame()\n",
    "output[\"id\"] = test_ids\n",
    "output[\"ClassId\"] = bestRF.predict(combined_test)\n",
    "output.to_csv(\"output.csv\", index=False)"
   ]
  },
  {
   "cell_type": "code",
   "execution_count": 21,
   "id": "e734061c",
   "metadata": {},
   "outputs": [
    {
     "data": {
      "text/html": [
       "<div>\n",
       "<style scoped>\n",
       "    .dataframe tbody tr th:only-of-type {\n",
       "        vertical-align: middle;\n",
       "    }\n",
       "\n",
       "    .dataframe tbody tr th {\n",
       "        vertical-align: top;\n",
       "    }\n",
       "\n",
       "    .dataframe thead th {\n",
       "        text-align: right;\n",
       "    }\n",
       "</style>\n",
       "<table border=\"1\" class=\"dataframe\">\n",
       "  <thead>\n",
       "    <tr style=\"text-align: right;\">\n",
       "      <th></th>\n",
       "      <th>id</th>\n",
       "      <th>ClassId</th>\n",
       "    </tr>\n",
       "  </thead>\n",
       "  <tbody>\n",
       "    <tr>\n",
       "      <th>0</th>\n",
       "      <td>661</td>\n",
       "      <td>12</td>\n",
       "    </tr>\n",
       "    <tr>\n",
       "      <th>1</th>\n",
       "      <td>4477</td>\n",
       "      <td>9</td>\n",
       "    </tr>\n",
       "    <tr>\n",
       "      <th>2</th>\n",
       "      <td>1046</td>\n",
       "      <td>2</td>\n",
       "    </tr>\n",
       "    <tr>\n",
       "      <th>3</th>\n",
       "      <td>631</td>\n",
       "      <td>7</td>\n",
       "    </tr>\n",
       "    <tr>\n",
       "      <th>4</th>\n",
       "      <td>6533</td>\n",
       "      <td>3</td>\n",
       "    </tr>\n",
       "    <tr>\n",
       "      <th>...</th>\n",
       "      <td>...</td>\n",
       "      <td>...</td>\n",
       "    </tr>\n",
       "    <tr>\n",
       "      <th>2348</th>\n",
       "      <td>2218</td>\n",
       "      <td>11</td>\n",
       "    </tr>\n",
       "    <tr>\n",
       "      <th>2349</th>\n",
       "      <td>4952</td>\n",
       "      <td>10</td>\n",
       "    </tr>\n",
       "    <tr>\n",
       "      <th>2350</th>\n",
       "      <td>1394</td>\n",
       "      <td>25</td>\n",
       "    </tr>\n",
       "    <tr>\n",
       "      <th>2351</th>\n",
       "      <td>3161</td>\n",
       "      <td>14</td>\n",
       "    </tr>\n",
       "    <tr>\n",
       "      <th>2352</th>\n",
       "      <td>1169</td>\n",
       "      <td>9</td>\n",
       "    </tr>\n",
       "  </tbody>\n",
       "</table>\n",
       "<p>2353 rows × 2 columns</p>\n",
       "</div>"
      ],
      "text/plain": [
       "        id  ClassId\n",
       "0      661       12\n",
       "1     4477        9\n",
       "2     1046        2\n",
       "3      631        7\n",
       "4     6533        3\n",
       "...    ...      ...\n",
       "2348  2218       11\n",
       "2349  4952       10\n",
       "2350  1394       25\n",
       "2351  3161       14\n",
       "2352  1169        9\n",
       "\n",
       "[2353 rows x 2 columns]"
      ]
     },
     "execution_count": 21,
     "metadata": {},
     "output_type": "execute_result"
    }
   ],
   "source": [
    "output"
   ]
  }
 ],
 "metadata": {
  "kernelspec": {
   "display_name": "Python 3",
   "language": "python",
   "name": "python3"
  },
  "language_info": {
   "codemirror_mode": {
    "name": "ipython",
    "version": 3
   },
   "file_extension": ".py",
   "mimetype": "text/x-python",
   "name": "python",
   "nbconvert_exporter": "python",
   "pygments_lexer": "ipython3",
   "version": "3.13.0"
  }
 },
 "nbformat": 4,
 "nbformat_minor": 5
}
