{
 "cells": [
  {
   "cell_type": "code",
<<<<<<< HEAD
   "execution_count": 13,
=======
   "execution_count": 3,
>>>>>>> e5613e5a9d3754e50bc0f5688b6520af8c6117e3
   "id": "5974221f",
   "metadata": {},
   "outputs": [],
   "source": [
    "import numpy as numpy\n",
    "import pandas as pd\n",
    "import matplotlib as mpl\n",
    "import sklearn.linear_model\n",
<<<<<<< HEAD
    "from sklearn.model_selection import RandomizedSearchCV, GridSearchCV\n",
=======
    "from sklearn.model_selection import GridSearchCV\n",
>>>>>>> e5613e5a9d3754e50bc0f5688b6520af8c6117e3
    "from sklearn.metrics import confusion_matrix\n",
    "from sklearn.preprocessing import StandardScaler\n",
    "import seaborn as sns\n",
    "from sklearn.model_selection import StratifiedKFold, cross_val_score\n",
    "import joblib"
   ]
  },
  {
   "cell_type": "code",
<<<<<<< HEAD
   "execution_count": 3,
=======
   "execution_count": 4,
>>>>>>> e5613e5a9d3754e50bc0f5688b6520af8c6117e3
   "id": "1f69bc81",
   "metadata": {},
   "outputs": [],
   "source": [
    "# Features we were given\n",
    "hog_pca = pd.read_csv(\"train/Features/hog_pca.csv\")\n",
    "color_hist = pd.read_csv(\"train/Features/color_histogram.csv\")\n",
    "additional_features = pd.read_csv(\"train/Features/additional_features.csv\")\n",
<<<<<<< HEAD
    "train_metadata = pd.read_csv(\"train/train_metadata.csv\")"
=======
    "train_metadata = pd.read_csv(\"train/Features/train_metadata.csv\")"
>>>>>>> e5613e5a9d3754e50bc0f5688b6520af8c6117e3
   ]
  },
  {
   "cell_type": "code",
<<<<<<< HEAD
   "execution_count": 4,
=======
   "execution_count": 5,
>>>>>>> e5613e5a9d3754e50bc0f5688b6520af8c6117e3
   "id": "a1013331",
   "metadata": {},
   "outputs": [],
   "source": [
    "hog_pca_test = pd.read_csv(\"test/Features/hog_pca.csv\")\n",
    "color_hist_test = pd.read_csv(\"test/Features/color_histogram.csv\")\n",
    "additional_features_test = pd.read_csv(\"test/Features/additional_features.csv\")\n",
<<<<<<< HEAD
    "test_metadata = pd.read_csv(\"test/test_metadata.csv\")"
=======
    "test_metadata = pd.read_csv(\"test/Features/test_metadata.csv\")"
>>>>>>> e5613e5a9d3754e50bc0f5688b6520af8c6117e3
   ]
  },
  {
   "cell_type": "code",
<<<<<<< HEAD
   "execution_count": 5,
=======
   "execution_count": 6,
>>>>>>> e5613e5a9d3754e50bc0f5688b6520af8c6117e3
   "id": "6af5e329",
   "metadata": {},
   "outputs": [],
   "source": [
    "class_ids = train_metadata[\"ClassId\"]\n",
    "test_ids = test_metadata[\"id\"]"
   ]
  },
  {
   "cell_type": "code",
<<<<<<< HEAD
   "execution_count": 6,
=======
   "execution_count": 8,
>>>>>>> e5613e5a9d3754e50bc0f5688b6520af8c6117e3
   "id": "403c1ffc",
   "metadata": {},
   "outputs": [],
   "source": [
    "combined = pd.concat([hog_pca.set_index(\"image_path\"), color_hist.set_index(\"image_path\"), additional_features.set_index(\"image_path\")], axis=1)\n",
    "combined_test = pd.concat([hog_pca_test.set_index(\"image_path\"), color_hist_test.set_index(\"image_path\"), additional_features_test.set_index(\"image_path\")], axis=1)\n",
<<<<<<< HEAD
    "standardiser = StandardScaler()\n",
    "combined_normalised = standardiser.fit_transform(combined)\n",
    "combined_test_normalised = standardiser.transform(combined_test)\n"
=======
    "combined_normalised = StandardScaler().fit_transform(combined)\n",
    "combined_test_normalised = StandardScaler().fit_transform(combined_test)\n"
>>>>>>> e5613e5a9d3754e50bc0f5688b6520af8c6117e3
   ]
  },
  {
   "cell_type": "code",
<<<<<<< HEAD
   "execution_count": 7,
=======
   "execution_count": 5,
>>>>>>> e5613e5a9d3754e50bc0f5688b6520af8c6117e3
   "id": "89eea226",
   "metadata": {},
   "outputs": [
    {
     "data": {
      "text/plain": [
       "ClassId\n",
       "2     315\n",
       "1     311\n",
       "13    302\n",
       "12    294\n",
       "38    290\n",
       "10    281\n",
       "4     277\n",
       "5     260\n",
       "25    210\n",
       "9     206\n",
       "7     202\n",
       "8     197\n",
       "3     197\n",
       "11    185\n",
       "18    168\n",
       "35    168\n",
       "17    155\n",
       "31    109\n",
       "14    109\n",
       "33     96\n",
       "15     88\n",
       "26     84\n",
       "28     76\n",
       "23     71\n",
       "30     63\n",
       "6      59\n",
       "16     59\n",
       "34     59\n",
       "36     55\n",
       "22     55\n",
       "40     50\n",
       "20     50\n",
       "21     46\n",
       "39     42\n",
       "24     38\n",
       "29     38\n",
       "32     34\n",
       "41     34\n",
       "27     34\n",
       "42     34\n",
       "0      29\n",
       "19     29\n",
       "37     29\n",
       "Name: count, dtype: int64"
      ]
     },
<<<<<<< HEAD
     "execution_count": 7,
=======
     "execution_count": 5,
>>>>>>> e5613e5a9d3754e50bc0f5688b6520af8c6117e3
     "metadata": {},
     "output_type": "execute_result"
    }
   ],
   "source": [
    "class_ids.value_counts()"
   ]
  },
  {
   "cell_type": "markdown",
   "id": "1c15455b",
   "metadata": {},
   "source": [
    "Since the distribution of our classes is so uneven - we sample split each class "
   ]
  },
  {
   "cell_type": "code",
<<<<<<< HEAD
   "execution_count": null,
=======
   "execution_count": 26,
   "id": "b4578977",
   "metadata": {},
   "outputs": [
    {
     "data": {
      "text/plain": [
       "array([[-0.42587148,  0.84146268,  0.280756  , ..., -0.39104125,\n",
       "        -0.37905801, -0.48165381],\n",
       "       [ 0.58531152,  3.27215417, -1.93012355, ..., -0.7104897 ,\n",
       "        -0.5746867 , -0.50733094],\n",
       "       [-0.86598117, -0.39210463, -0.33821138, ...,  0.36003036,\n",
       "         0.65180264,  0.78108539],\n",
       "       ...,\n",
       "       [-1.08871248, -1.0129943 , -1.26161381, ...,  1.31130008,\n",
       "         1.65716831,  1.82753351],\n",
       "       [-1.26323278, -1.14846883, -0.88271531, ...,  0.15941816,\n",
       "         0.09254733, -0.07321923],\n",
       "       [ 0.54919296,  2.88234791, -2.19892417, ..., -1.0972057 ,\n",
       "        -1.10381863, -1.10171439]], shape=(5488, 120))"
      ]
     },
     "execution_count": 26,
     "metadata": {},
     "output_type": "execute_result"
    }
   ],
   "source": [
    "combined_normalised"
   ]
  },
  {
   "cell_type": "code",
   "execution_count": 15,
>>>>>>> e5613e5a9d3754e50bc0f5688b6520af8c6117e3
   "id": "fb0d107c",
   "metadata": {},
   "outputs": [
    {
<<<<<<< HEAD
     "name": "stderr",
     "output_type": "stream",
     "text": [
      "c:\\Users\\victo\\AppData\\Local\\Programs\\Python\\Python313\\Lib\\site-packages\\sklearn\\linear_model\\_logistic.py:1256: FutureWarning: 'multi_class' was deprecated in version 1.5 and will be removed in 1.7. Use OneVsRestClassifier(LogisticRegression(..)) instead. Leave it to its default value to avoid this warning.\n",
      "  warnings.warn(\n"
     ]
    },
    {
     "data": {
      "text/html": [
       "<style>#sk-container-id-1 {\n",
       "  /* Definition of color scheme common for light and dark mode */\n",
       "  --sklearn-color-text: #000;\n",
       "  --sklearn-color-text-muted: #666;\n",
       "  --sklearn-color-line: gray;\n",
       "  /* Definition of color scheme for unfitted estimators */\n",
       "  --sklearn-color-unfitted-level-0: #fff5e6;\n",
       "  --sklearn-color-unfitted-level-1: #f6e4d2;\n",
       "  --sklearn-color-unfitted-level-2: #ffe0b3;\n",
       "  --sklearn-color-unfitted-level-3: chocolate;\n",
       "  /* Definition of color scheme for fitted estimators */\n",
       "  --sklearn-color-fitted-level-0: #f0f8ff;\n",
       "  --sklearn-color-fitted-level-1: #d4ebff;\n",
       "  --sklearn-color-fitted-level-2: #b3dbfd;\n",
       "  --sklearn-color-fitted-level-3: cornflowerblue;\n",
       "\n",
       "  /* Specific color for light theme */\n",
       "  --sklearn-color-text-on-default-background: var(--sg-text-color, var(--theme-code-foreground, var(--jp-content-font-color1, black)));\n",
       "  --sklearn-color-background: var(--sg-background-color, var(--theme-background, var(--jp-layout-color0, white)));\n",
       "  --sklearn-color-border-box: var(--sg-text-color, var(--theme-code-foreground, var(--jp-content-font-color1, black)));\n",
       "  --sklearn-color-icon: #696969;\n",
       "\n",
       "  @media (prefers-color-scheme: dark) {\n",
       "    /* Redefinition of color scheme for dark theme */\n",
       "    --sklearn-color-text-on-default-background: var(--sg-text-color, var(--theme-code-foreground, var(--jp-content-font-color1, white)));\n",
       "    --sklearn-color-background: var(--sg-background-color, var(--theme-background, var(--jp-layout-color0, #111)));\n",
       "    --sklearn-color-border-box: var(--sg-text-color, var(--theme-code-foreground, var(--jp-content-font-color1, white)));\n",
       "    --sklearn-color-icon: #878787;\n",
       "  }\n",
       "}\n",
       "\n",
       "#sk-container-id-1 {\n",
       "  color: var(--sklearn-color-text);\n",
       "}\n",
       "\n",
       "#sk-container-id-1 pre {\n",
       "  padding: 0;\n",
       "}\n",
       "\n",
       "#sk-container-id-1 input.sk-hidden--visually {\n",
       "  border: 0;\n",
       "  clip: rect(1px 1px 1px 1px);\n",
       "  clip: rect(1px, 1px, 1px, 1px);\n",
       "  height: 1px;\n",
       "  margin: -1px;\n",
       "  overflow: hidden;\n",
       "  padding: 0;\n",
       "  position: absolute;\n",
       "  width: 1px;\n",
       "}\n",
       "\n",
       "#sk-container-id-1 div.sk-dashed-wrapped {\n",
       "  border: 1px dashed var(--sklearn-color-line);\n",
       "  margin: 0 0.4em 0.5em 0.4em;\n",
       "  box-sizing: border-box;\n",
       "  padding-bottom: 0.4em;\n",
       "  background-color: var(--sklearn-color-background);\n",
       "}\n",
       "\n",
       "#sk-container-id-1 div.sk-container {\n",
       "  /* jupyter's `normalize.less` sets `[hidden] { display: none; }`\n",
       "     but bootstrap.min.css set `[hidden] { display: none !important; }`\n",
       "     so we also need the `!important` here to be able to override the\n",
       "     default hidden behavior on the sphinx rendered scikit-learn.org.\n",
       "     See: https://github.com/scikit-learn/scikit-learn/issues/21755 */\n",
       "  display: inline-block !important;\n",
       "  position: relative;\n",
       "}\n",
       "\n",
       "#sk-container-id-1 div.sk-text-repr-fallback {\n",
       "  display: none;\n",
       "}\n",
       "\n",
       "div.sk-parallel-item,\n",
       "div.sk-serial,\n",
       "div.sk-item {\n",
       "  /* draw centered vertical line to link estimators */\n",
       "  background-image: linear-gradient(var(--sklearn-color-text-on-default-background), var(--sklearn-color-text-on-default-background));\n",
       "  background-size: 2px 100%;\n",
       "  background-repeat: no-repeat;\n",
       "  background-position: center center;\n",
       "}\n",
       "\n",
       "/* Parallel-specific style estimator block */\n",
       "\n",
       "#sk-container-id-1 div.sk-parallel-item::after {\n",
       "  content: \"\";\n",
       "  width: 100%;\n",
       "  border-bottom: 2px solid var(--sklearn-color-text-on-default-background);\n",
       "  flex-grow: 1;\n",
       "}\n",
       "\n",
       "#sk-container-id-1 div.sk-parallel {\n",
       "  display: flex;\n",
       "  align-items: stretch;\n",
       "  justify-content: center;\n",
       "  background-color: var(--sklearn-color-background);\n",
       "  position: relative;\n",
       "}\n",
       "\n",
       "#sk-container-id-1 div.sk-parallel-item {\n",
       "  display: flex;\n",
       "  flex-direction: column;\n",
       "}\n",
       "\n",
       "#sk-container-id-1 div.sk-parallel-item:first-child::after {\n",
       "  align-self: flex-end;\n",
       "  width: 50%;\n",
       "}\n",
       "\n",
       "#sk-container-id-1 div.sk-parallel-item:last-child::after {\n",
       "  align-self: flex-start;\n",
       "  width: 50%;\n",
       "}\n",
       "\n",
       "#sk-container-id-1 div.sk-parallel-item:only-child::after {\n",
       "  width: 0;\n",
       "}\n",
       "\n",
       "/* Serial-specific style estimator block */\n",
       "\n",
       "#sk-container-id-1 div.sk-serial {\n",
       "  display: flex;\n",
       "  flex-direction: column;\n",
       "  align-items: center;\n",
       "  background-color: var(--sklearn-color-background);\n",
       "  padding-right: 1em;\n",
       "  padding-left: 1em;\n",
       "}\n",
       "\n",
       "\n",
       "/* Toggleable style: style used for estimator/Pipeline/ColumnTransformer box that is\n",
       "clickable and can be expanded/collapsed.\n",
       "- Pipeline and ColumnTransformer use this feature and define the default style\n",
       "- Estimators will overwrite some part of the style using the `sk-estimator` class\n",
       "*/\n",
       "\n",
       "/* Pipeline and ColumnTransformer style (default) */\n",
       "\n",
       "#sk-container-id-1 div.sk-toggleable {\n",
       "  /* Default theme specific background. It is overwritten whether we have a\n",
       "  specific estimator or a Pipeline/ColumnTransformer */\n",
       "  background-color: var(--sklearn-color-background);\n",
       "}\n",
       "\n",
       "/* Toggleable label */\n",
       "#sk-container-id-1 label.sk-toggleable__label {\n",
       "  cursor: pointer;\n",
       "  display: flex;\n",
       "  width: 100%;\n",
       "  margin-bottom: 0;\n",
       "  padding: 0.5em;\n",
       "  box-sizing: border-box;\n",
       "  text-align: center;\n",
       "  align-items: start;\n",
       "  justify-content: space-between;\n",
       "  gap: 0.5em;\n",
       "}\n",
       "\n",
       "#sk-container-id-1 label.sk-toggleable__label .caption {\n",
       "  font-size: 0.6rem;\n",
       "  font-weight: lighter;\n",
       "  color: var(--sklearn-color-text-muted);\n",
       "}\n",
       "\n",
       "#sk-container-id-1 label.sk-toggleable__label-arrow:before {\n",
       "  /* Arrow on the left of the label */\n",
       "  content: \"▸\";\n",
       "  float: left;\n",
       "  margin-right: 0.25em;\n",
       "  color: var(--sklearn-color-icon);\n",
       "}\n",
       "\n",
       "#sk-container-id-1 label.sk-toggleable__label-arrow:hover:before {\n",
       "  color: var(--sklearn-color-text);\n",
       "}\n",
       "\n",
       "/* Toggleable content - dropdown */\n",
       "\n",
       "#sk-container-id-1 div.sk-toggleable__content {\n",
       "  max-height: 0;\n",
       "  max-width: 0;\n",
       "  overflow: hidden;\n",
       "  text-align: left;\n",
       "  /* unfitted */\n",
       "  background-color: var(--sklearn-color-unfitted-level-0);\n",
       "}\n",
       "\n",
       "#sk-container-id-1 div.sk-toggleable__content.fitted {\n",
       "  /* fitted */\n",
       "  background-color: var(--sklearn-color-fitted-level-0);\n",
       "}\n",
       "\n",
       "#sk-container-id-1 div.sk-toggleable__content pre {\n",
       "  margin: 0.2em;\n",
       "  border-radius: 0.25em;\n",
       "  color: var(--sklearn-color-text);\n",
       "  /* unfitted */\n",
       "  background-color: var(--sklearn-color-unfitted-level-0);\n",
       "}\n",
       "\n",
       "#sk-container-id-1 div.sk-toggleable__content.fitted pre {\n",
       "  /* unfitted */\n",
       "  background-color: var(--sklearn-color-fitted-level-0);\n",
       "}\n",
       "\n",
       "#sk-container-id-1 input.sk-toggleable__control:checked~div.sk-toggleable__content {\n",
       "  /* Expand drop-down */\n",
       "  max-height: 200px;\n",
       "  max-width: 100%;\n",
       "  overflow: auto;\n",
       "}\n",
       "\n",
       "#sk-container-id-1 input.sk-toggleable__control:checked~label.sk-toggleable__label-arrow:before {\n",
       "  content: \"▾\";\n",
       "}\n",
       "\n",
       "/* Pipeline/ColumnTransformer-specific style */\n",
       "\n",
       "#sk-container-id-1 div.sk-label input.sk-toggleable__control:checked~label.sk-toggleable__label {\n",
       "  color: var(--sklearn-color-text);\n",
       "  background-color: var(--sklearn-color-unfitted-level-2);\n",
       "}\n",
       "\n",
       "#sk-container-id-1 div.sk-label.fitted input.sk-toggleable__control:checked~label.sk-toggleable__label {\n",
       "  background-color: var(--sklearn-color-fitted-level-2);\n",
       "}\n",
       "\n",
       "/* Estimator-specific style */\n",
       "\n",
       "/* Colorize estimator box */\n",
       "#sk-container-id-1 div.sk-estimator input.sk-toggleable__control:checked~label.sk-toggleable__label {\n",
       "  /* unfitted */\n",
       "  background-color: var(--sklearn-color-unfitted-level-2);\n",
       "}\n",
       "\n",
       "#sk-container-id-1 div.sk-estimator.fitted input.sk-toggleable__control:checked~label.sk-toggleable__label {\n",
       "  /* fitted */\n",
       "  background-color: var(--sklearn-color-fitted-level-2);\n",
       "}\n",
       "\n",
       "#sk-container-id-1 div.sk-label label.sk-toggleable__label,\n",
       "#sk-container-id-1 div.sk-label label {\n",
       "  /* The background is the default theme color */\n",
       "  color: var(--sklearn-color-text-on-default-background);\n",
       "}\n",
       "\n",
       "/* On hover, darken the color of the background */\n",
       "#sk-container-id-1 div.sk-label:hover label.sk-toggleable__label {\n",
       "  color: var(--sklearn-color-text);\n",
       "  background-color: var(--sklearn-color-unfitted-level-2);\n",
       "}\n",
       "\n",
       "/* Label box, darken color on hover, fitted */\n",
       "#sk-container-id-1 div.sk-label.fitted:hover label.sk-toggleable__label.fitted {\n",
       "  color: var(--sklearn-color-text);\n",
       "  background-color: var(--sklearn-color-fitted-level-2);\n",
       "}\n",
       "\n",
       "/* Estimator label */\n",
       "\n",
       "#sk-container-id-1 div.sk-label label {\n",
       "  font-family: monospace;\n",
       "  font-weight: bold;\n",
       "  display: inline-block;\n",
       "  line-height: 1.2em;\n",
       "}\n",
       "\n",
       "#sk-container-id-1 div.sk-label-container {\n",
       "  text-align: center;\n",
       "}\n",
       "\n",
       "/* Estimator-specific */\n",
       "#sk-container-id-1 div.sk-estimator {\n",
       "  font-family: monospace;\n",
       "  border: 1px dotted var(--sklearn-color-border-box);\n",
       "  border-radius: 0.25em;\n",
       "  box-sizing: border-box;\n",
       "  margin-bottom: 0.5em;\n",
       "  /* unfitted */\n",
       "  background-color: var(--sklearn-color-unfitted-level-0);\n",
       "}\n",
       "\n",
       "#sk-container-id-1 div.sk-estimator.fitted {\n",
       "  /* fitted */\n",
       "  background-color: var(--sklearn-color-fitted-level-0);\n",
       "}\n",
       "\n",
       "/* on hover */\n",
       "#sk-container-id-1 div.sk-estimator:hover {\n",
       "  /* unfitted */\n",
       "  background-color: var(--sklearn-color-unfitted-level-2);\n",
       "}\n",
       "\n",
       "#sk-container-id-1 div.sk-estimator.fitted:hover {\n",
       "  /* fitted */\n",
       "  background-color: var(--sklearn-color-fitted-level-2);\n",
       "}\n",
       "\n",
       "/* Specification for estimator info (e.g. \"i\" and \"?\") */\n",
       "\n",
       "/* Common style for \"i\" and \"?\" */\n",
       "\n",
       ".sk-estimator-doc-link,\n",
       "a:link.sk-estimator-doc-link,\n",
       "a:visited.sk-estimator-doc-link {\n",
       "  float: right;\n",
       "  font-size: smaller;\n",
       "  line-height: 1em;\n",
       "  font-family: monospace;\n",
       "  background-color: var(--sklearn-color-background);\n",
       "  border-radius: 1em;\n",
       "  height: 1em;\n",
       "  width: 1em;\n",
       "  text-decoration: none !important;\n",
       "  margin-left: 0.5em;\n",
       "  text-align: center;\n",
       "  /* unfitted */\n",
       "  border: var(--sklearn-color-unfitted-level-1) 1pt solid;\n",
       "  color: var(--sklearn-color-unfitted-level-1);\n",
       "}\n",
       "\n",
       ".sk-estimator-doc-link.fitted,\n",
       "a:link.sk-estimator-doc-link.fitted,\n",
       "a:visited.sk-estimator-doc-link.fitted {\n",
       "  /* fitted */\n",
       "  border: var(--sklearn-color-fitted-level-1) 1pt solid;\n",
       "  color: var(--sklearn-color-fitted-level-1);\n",
       "}\n",
       "\n",
       "/* On hover */\n",
       "div.sk-estimator:hover .sk-estimator-doc-link:hover,\n",
       ".sk-estimator-doc-link:hover,\n",
       "div.sk-label-container:hover .sk-estimator-doc-link:hover,\n",
       ".sk-estimator-doc-link:hover {\n",
       "  /* unfitted */\n",
       "  background-color: var(--sklearn-color-unfitted-level-3);\n",
       "  color: var(--sklearn-color-background);\n",
       "  text-decoration: none;\n",
       "}\n",
       "\n",
       "div.sk-estimator.fitted:hover .sk-estimator-doc-link.fitted:hover,\n",
       ".sk-estimator-doc-link.fitted:hover,\n",
       "div.sk-label-container:hover .sk-estimator-doc-link.fitted:hover,\n",
       ".sk-estimator-doc-link.fitted:hover {\n",
       "  /* fitted */\n",
       "  background-color: var(--sklearn-color-fitted-level-3);\n",
       "  color: var(--sklearn-color-background);\n",
       "  text-decoration: none;\n",
       "}\n",
       "\n",
       "/* Span, style for the box shown on hovering the info icon */\n",
       ".sk-estimator-doc-link span {\n",
       "  display: none;\n",
       "  z-index: 9999;\n",
       "  position: relative;\n",
       "  font-weight: normal;\n",
       "  right: .2ex;\n",
       "  padding: .5ex;\n",
       "  margin: .5ex;\n",
       "  width: min-content;\n",
       "  min-width: 20ex;\n",
       "  max-width: 50ex;\n",
       "  color: var(--sklearn-color-text);\n",
       "  box-shadow: 2pt 2pt 4pt #999;\n",
       "  /* unfitted */\n",
       "  background: var(--sklearn-color-unfitted-level-0);\n",
       "  border: .5pt solid var(--sklearn-color-unfitted-level-3);\n",
       "}\n",
       "\n",
       ".sk-estimator-doc-link.fitted span {\n",
       "  /* fitted */\n",
       "  background: var(--sklearn-color-fitted-level-0);\n",
       "  border: var(--sklearn-color-fitted-level-3);\n",
       "}\n",
       "\n",
       ".sk-estimator-doc-link:hover span {\n",
       "  display: block;\n",
       "}\n",
       "\n",
       "/* \"?\"-specific style due to the `<a>` HTML tag */\n",
       "\n",
       "#sk-container-id-1 a.estimator_doc_link {\n",
       "  float: right;\n",
       "  font-size: 1rem;\n",
       "  line-height: 1em;\n",
       "  font-family: monospace;\n",
       "  background-color: var(--sklearn-color-background);\n",
       "  border-radius: 1rem;\n",
       "  height: 1rem;\n",
       "  width: 1rem;\n",
       "  text-decoration: none;\n",
       "  /* unfitted */\n",
       "  color: var(--sklearn-color-unfitted-level-1);\n",
       "  border: var(--sklearn-color-unfitted-level-1) 1pt solid;\n",
       "}\n",
       "\n",
       "#sk-container-id-1 a.estimator_doc_link.fitted {\n",
       "  /* fitted */\n",
       "  border: var(--sklearn-color-fitted-level-1) 1pt solid;\n",
       "  color: var(--sklearn-color-fitted-level-1);\n",
       "}\n",
       "\n",
       "/* On hover */\n",
       "#sk-container-id-1 a.estimator_doc_link:hover {\n",
       "  /* unfitted */\n",
       "  background-color: var(--sklearn-color-unfitted-level-3);\n",
       "  color: var(--sklearn-color-background);\n",
       "  text-decoration: none;\n",
       "}\n",
       "\n",
       "#sk-container-id-1 a.estimator_doc_link.fitted:hover {\n",
       "  /* fitted */\n",
       "  background-color: var(--sklearn-color-fitted-level-3);\n",
       "}\n",
       "</style><div id=\"sk-container-id-1\" class=\"sk-top-container\"><div class=\"sk-text-repr-fallback\"><pre>GridSearchCV(cv=5,\n",
       "             estimator=LogisticRegression(max_iter=10000, multi_class=&#x27;ovr&#x27;,\n",
       "                                          n_jobs=10, penalty=&#x27;l1&#x27;,\n",
       "                                          solver=&#x27;saga&#x27;),\n",
       "             n_jobs=8, param_grid={&#x27;C&#x27;: [1, 2]})</pre><b>In a Jupyter environment, please rerun this cell to show the HTML representation or trust the notebook. <br />On GitHub, the HTML representation is unable to render, please try loading this page with nbviewer.org.</b></div><div class=\"sk-container\" hidden><div class=\"sk-item sk-dashed-wrapped\"><div class=\"sk-label-container\"><div class=\"sk-label fitted sk-toggleable\"><input class=\"sk-toggleable__control sk-hidden--visually\" id=\"sk-estimator-id-1\" type=\"checkbox\" ><label for=\"sk-estimator-id-1\" class=\"sk-toggleable__label fitted sk-toggleable__label-arrow\"><div><div>GridSearchCV</div></div><div><a class=\"sk-estimator-doc-link fitted\" rel=\"noreferrer\" target=\"_blank\" href=\"https://scikit-learn.org/1.6/modules/generated/sklearn.model_selection.GridSearchCV.html\">?<span>Documentation for GridSearchCV</span></a><span class=\"sk-estimator-doc-link fitted\">i<span>Fitted</span></span></div></label><div class=\"sk-toggleable__content fitted\"><pre>GridSearchCV(cv=5,\n",
       "             estimator=LogisticRegression(max_iter=10000, multi_class=&#x27;ovr&#x27;,\n",
       "                                          n_jobs=10, penalty=&#x27;l1&#x27;,\n",
       "                                          solver=&#x27;saga&#x27;),\n",
       "             n_jobs=8, param_grid={&#x27;C&#x27;: [1, 2]})</pre></div> </div></div><div class=\"sk-parallel\"><div class=\"sk-parallel-item\"><div class=\"sk-item\"><div class=\"sk-label-container\"><div class=\"sk-label fitted sk-toggleable\"><input class=\"sk-toggleable__control sk-hidden--visually\" id=\"sk-estimator-id-2\" type=\"checkbox\" ><label for=\"sk-estimator-id-2\" class=\"sk-toggleable__label fitted sk-toggleable__label-arrow\"><div><div>best_estimator_: LogisticRegression</div></div></label><div class=\"sk-toggleable__content fitted\"><pre>LogisticRegression(C=1, max_iter=10000, multi_class=&#x27;ovr&#x27;, n_jobs=10,\n",
       "                   penalty=&#x27;l1&#x27;, solver=&#x27;saga&#x27;)</pre></div> </div></div><div class=\"sk-serial\"><div class=\"sk-item\"><div class=\"sk-estimator fitted sk-toggleable\"><input class=\"sk-toggleable__control sk-hidden--visually\" id=\"sk-estimator-id-3\" type=\"checkbox\" ><label for=\"sk-estimator-id-3\" class=\"sk-toggleable__label fitted sk-toggleable__label-arrow\"><div><div>LogisticRegression</div></div><div><a class=\"sk-estimator-doc-link fitted\" rel=\"noreferrer\" target=\"_blank\" href=\"https://scikit-learn.org/1.6/modules/generated/sklearn.linear_model.LogisticRegression.html\">?<span>Documentation for LogisticRegression</span></a></div></label><div class=\"sk-toggleable__content fitted\"><pre>LogisticRegression(C=1, max_iter=10000, multi_class=&#x27;ovr&#x27;, n_jobs=10,\n",
       "                   penalty=&#x27;l1&#x27;, solver=&#x27;saga&#x27;)</pre></div> </div></div></div></div></div></div></div></div></div>"
      ],
      "text/plain": [
       "GridSearchCV(cv=5,\n",
       "             estimator=LogisticRegression(max_iter=10000, multi_class='ovr',\n",
       "                                          n_jobs=10, penalty='l1',\n",
       "                                          solver='saga'),\n",
       "             n_jobs=8, param_grid={'C': [1, 2]})"
      ]
     },
     "execution_count": 18,
     "metadata": {},
     "output_type": "execute_result"
=======
     "ename": "KeyboardInterrupt",
     "evalue": "",
     "output_type": "error",
     "traceback": [
      "\u001b[31m---------------------------------------------------------------------------\u001b[39m",
      "\u001b[31mKeyboardInterrupt\u001b[39m                         Traceback (most recent call last)",
      "\u001b[36mCell\u001b[39m\u001b[36m \u001b[39m\u001b[32mIn[15]\u001b[39m\u001b[32m, line 10\u001b[39m\n\u001b[32m      6\u001b[39m logReg = sklearn.linear_model.LogisticRegression(\n\u001b[32m      7\u001b[39m         penalty=\u001b[33m'\u001b[39m\u001b[33ml1\u001b[39m\u001b[33m'\u001b[39m, solver=\u001b[33m'\u001b[39m\u001b[33msaga\u001b[39m\u001b[33m'\u001b[39m, multi_class=\u001b[33m'\u001b[39m\u001b[33movr\u001b[39m\u001b[33m'\u001b[39m, max_iter=\u001b[32m10000\u001b[39m, n_jobs=\u001b[32m10\u001b[39m\n\u001b[32m      8\u001b[39m     )\n\u001b[32m      9\u001b[39m oneRest = GridSearchCV(logReg, param_grid2, cv=\u001b[32m5\u001b[39m, n_jobs=\u001b[32m8\u001b[39m)\n\u001b[32m---> \u001b[39m\u001b[32m10\u001b[39m \u001b[43moneRest\u001b[49m\u001b[43m.\u001b[49m\u001b[43mfit\u001b[49m\u001b[43m(\u001b[49m\u001b[43mcombined_normalised\u001b[49m\u001b[43m[\u001b[49m\u001b[43mtrain\u001b[49m\u001b[43m]\u001b[49m\u001b[43m,\u001b[49m\u001b[43m \u001b[49m\u001b[43mclass_ids\u001b[49m\u001b[43m[\u001b[49m\u001b[43mtrain\u001b[49m\u001b[43m]\u001b[49m\u001b[43m)\u001b[49m\n",
      "\u001b[36mFile \u001b[39m\u001b[32mc:\\Users\\victo\\AppData\\Local\\Programs\\Python\\Python313\\Lib\\site-packages\\sklearn\\base.py:1389\u001b[39m, in \u001b[36m_fit_context.<locals>.decorator.<locals>.wrapper\u001b[39m\u001b[34m(estimator, *args, **kwargs)\u001b[39m\n\u001b[32m   1382\u001b[39m     estimator._validate_params()\n\u001b[32m   1384\u001b[39m \u001b[38;5;28;01mwith\u001b[39;00m config_context(\n\u001b[32m   1385\u001b[39m     skip_parameter_validation=(\n\u001b[32m   1386\u001b[39m         prefer_skip_nested_validation \u001b[38;5;129;01mor\u001b[39;00m global_skip_validation\n\u001b[32m   1387\u001b[39m     )\n\u001b[32m   1388\u001b[39m ):\n\u001b[32m-> \u001b[39m\u001b[32m1389\u001b[39m     \u001b[38;5;28;01mreturn\u001b[39;00m \u001b[43mfit_method\u001b[49m\u001b[43m(\u001b[49m\u001b[43mestimator\u001b[49m\u001b[43m,\u001b[49m\u001b[43m \u001b[49m\u001b[43m*\u001b[49m\u001b[43margs\u001b[49m\u001b[43m,\u001b[49m\u001b[43m \u001b[49m\u001b[43m*\u001b[49m\u001b[43m*\u001b[49m\u001b[43mkwargs\u001b[49m\u001b[43m)\u001b[49m\n",
      "\u001b[36mFile \u001b[39m\u001b[32mc:\\Users\\victo\\AppData\\Local\\Programs\\Python\\Python313\\Lib\\site-packages\\sklearn\\model_selection\\_search.py:1024\u001b[39m, in \u001b[36mBaseSearchCV.fit\u001b[39m\u001b[34m(self, X, y, **params)\u001b[39m\n\u001b[32m   1018\u001b[39m     results = \u001b[38;5;28mself\u001b[39m._format_results(\n\u001b[32m   1019\u001b[39m         all_candidate_params, n_splits, all_out, all_more_results\n\u001b[32m   1020\u001b[39m     )\n\u001b[32m   1022\u001b[39m     \u001b[38;5;28;01mreturn\u001b[39;00m results\n\u001b[32m-> \u001b[39m\u001b[32m1024\u001b[39m \u001b[38;5;28;43mself\u001b[39;49m\u001b[43m.\u001b[49m\u001b[43m_run_search\u001b[49m\u001b[43m(\u001b[49m\u001b[43mevaluate_candidates\u001b[49m\u001b[43m)\u001b[49m\n\u001b[32m   1026\u001b[39m \u001b[38;5;66;03m# multimetric is determined here because in the case of a callable\u001b[39;00m\n\u001b[32m   1027\u001b[39m \u001b[38;5;66;03m# self.scoring the return type is only known after calling\u001b[39;00m\n\u001b[32m   1028\u001b[39m first_test_score = all_out[\u001b[32m0\u001b[39m][\u001b[33m\"\u001b[39m\u001b[33mtest_scores\u001b[39m\u001b[33m\"\u001b[39m]\n",
      "\u001b[36mFile \u001b[39m\u001b[32mc:\\Users\\victo\\AppData\\Local\\Programs\\Python\\Python313\\Lib\\site-packages\\sklearn\\model_selection\\_search.py:1571\u001b[39m, in \u001b[36mGridSearchCV._run_search\u001b[39m\u001b[34m(self, evaluate_candidates)\u001b[39m\n\u001b[32m   1569\u001b[39m \u001b[38;5;28;01mdef\u001b[39;00m\u001b[38;5;250m \u001b[39m\u001b[34m_run_search\u001b[39m(\u001b[38;5;28mself\u001b[39m, evaluate_candidates):\n\u001b[32m   1570\u001b[39m \u001b[38;5;250m    \u001b[39m\u001b[33;03m\"\"\"Search all candidates in param_grid\"\"\"\u001b[39;00m\n\u001b[32m-> \u001b[39m\u001b[32m1571\u001b[39m     \u001b[43mevaluate_candidates\u001b[49m\u001b[43m(\u001b[49m\u001b[43mParameterGrid\u001b[49m\u001b[43m(\u001b[49m\u001b[38;5;28;43mself\u001b[39;49m\u001b[43m.\u001b[49m\u001b[43mparam_grid\u001b[49m\u001b[43m)\u001b[49m\u001b[43m)\u001b[49m\n",
      "\u001b[36mFile \u001b[39m\u001b[32mc:\\Users\\victo\\AppData\\Local\\Programs\\Python\\Python313\\Lib\\site-packages\\sklearn\\model_selection\\_search.py:970\u001b[39m, in \u001b[36mBaseSearchCV.fit.<locals>.evaluate_candidates\u001b[39m\u001b[34m(candidate_params, cv, more_results)\u001b[39m\n\u001b[32m    962\u001b[39m \u001b[38;5;28;01mif\u001b[39;00m \u001b[38;5;28mself\u001b[39m.verbose > \u001b[32m0\u001b[39m:\n\u001b[32m    963\u001b[39m     \u001b[38;5;28mprint\u001b[39m(\n\u001b[32m    964\u001b[39m         \u001b[33m\"\u001b[39m\u001b[33mFitting \u001b[39m\u001b[38;5;132;01m{0}\u001b[39;00m\u001b[33m folds for each of \u001b[39m\u001b[38;5;132;01m{1}\u001b[39;00m\u001b[33m candidates,\u001b[39m\u001b[33m\"\u001b[39m\n\u001b[32m    965\u001b[39m         \u001b[33m\"\u001b[39m\u001b[33m totalling \u001b[39m\u001b[38;5;132;01m{2}\u001b[39;00m\u001b[33m fits\u001b[39m\u001b[33m\"\u001b[39m.format(\n\u001b[32m    966\u001b[39m             n_splits, n_candidates, n_candidates * n_splits\n\u001b[32m    967\u001b[39m         )\n\u001b[32m    968\u001b[39m     )\n\u001b[32m--> \u001b[39m\u001b[32m970\u001b[39m out = \u001b[43mparallel\u001b[49m\u001b[43m(\u001b[49m\n\u001b[32m    971\u001b[39m \u001b[43m    \u001b[49m\u001b[43mdelayed\u001b[49m\u001b[43m(\u001b[49m\u001b[43m_fit_and_score\u001b[49m\u001b[43m)\u001b[49m\u001b[43m(\u001b[49m\n\u001b[32m    972\u001b[39m \u001b[43m        \u001b[49m\u001b[43mclone\u001b[49m\u001b[43m(\u001b[49m\u001b[43mbase_estimator\u001b[49m\u001b[43m)\u001b[49m\u001b[43m,\u001b[49m\n\u001b[32m    973\u001b[39m \u001b[43m        \u001b[49m\u001b[43mX\u001b[49m\u001b[43m,\u001b[49m\n\u001b[32m    974\u001b[39m \u001b[43m        \u001b[49m\u001b[43my\u001b[49m\u001b[43m,\u001b[49m\n\u001b[32m    975\u001b[39m \u001b[43m        \u001b[49m\u001b[43mtrain\u001b[49m\u001b[43m=\u001b[49m\u001b[43mtrain\u001b[49m\u001b[43m,\u001b[49m\n\u001b[32m    976\u001b[39m \u001b[43m        \u001b[49m\u001b[43mtest\u001b[49m\u001b[43m=\u001b[49m\u001b[43mtest\u001b[49m\u001b[43m,\u001b[49m\n\u001b[32m    977\u001b[39m \u001b[43m        \u001b[49m\u001b[43mparameters\u001b[49m\u001b[43m=\u001b[49m\u001b[43mparameters\u001b[49m\u001b[43m,\u001b[49m\n\u001b[32m    978\u001b[39m \u001b[43m        \u001b[49m\u001b[43msplit_progress\u001b[49m\u001b[43m=\u001b[49m\u001b[43m(\u001b[49m\u001b[43msplit_idx\u001b[49m\u001b[43m,\u001b[49m\u001b[43m \u001b[49m\u001b[43mn_splits\u001b[49m\u001b[43m)\u001b[49m\u001b[43m,\u001b[49m\n\u001b[32m    979\u001b[39m \u001b[43m        \u001b[49m\u001b[43mcandidate_progress\u001b[49m\u001b[43m=\u001b[49m\u001b[43m(\u001b[49m\u001b[43mcand_idx\u001b[49m\u001b[43m,\u001b[49m\u001b[43m \u001b[49m\u001b[43mn_candidates\u001b[49m\u001b[43m)\u001b[49m\u001b[43m,\u001b[49m\n\u001b[32m    980\u001b[39m \u001b[43m        \u001b[49m\u001b[43m*\u001b[49m\u001b[43m*\u001b[49m\u001b[43mfit_and_score_kwargs\u001b[49m\u001b[43m,\u001b[49m\n\u001b[32m    981\u001b[39m \u001b[43m    \u001b[49m\u001b[43m)\u001b[49m\n\u001b[32m    982\u001b[39m \u001b[43m    \u001b[49m\u001b[38;5;28;43;01mfor\u001b[39;49;00m\u001b[43m \u001b[49m\u001b[43m(\u001b[49m\u001b[43mcand_idx\u001b[49m\u001b[43m,\u001b[49m\u001b[43m \u001b[49m\u001b[43mparameters\u001b[49m\u001b[43m)\u001b[49m\u001b[43m,\u001b[49m\u001b[43m \u001b[49m\u001b[43m(\u001b[49m\u001b[43msplit_idx\u001b[49m\u001b[43m,\u001b[49m\u001b[43m \u001b[49m\u001b[43m(\u001b[49m\u001b[43mtrain\u001b[49m\u001b[43m,\u001b[49m\u001b[43m \u001b[49m\u001b[43mtest\u001b[49m\u001b[43m)\u001b[49m\u001b[43m)\u001b[49m\u001b[43m \u001b[49m\u001b[38;5;129;43;01min\u001b[39;49;00m\u001b[43m \u001b[49m\u001b[43mproduct\u001b[49m\u001b[43m(\u001b[49m\n\u001b[32m    983\u001b[39m \u001b[43m        \u001b[49m\u001b[38;5;28;43menumerate\u001b[39;49m\u001b[43m(\u001b[49m\u001b[43mcandidate_params\u001b[49m\u001b[43m)\u001b[49m\u001b[43m,\u001b[49m\n\u001b[32m    984\u001b[39m \u001b[43m        \u001b[49m\u001b[38;5;28;43menumerate\u001b[39;49m\u001b[43m(\u001b[49m\u001b[43mcv\u001b[49m\u001b[43m.\u001b[49m\u001b[43msplit\u001b[49m\u001b[43m(\u001b[49m\u001b[43mX\u001b[49m\u001b[43m,\u001b[49m\u001b[43m \u001b[49m\u001b[43my\u001b[49m\u001b[43m,\u001b[49m\u001b[43m \u001b[49m\u001b[43m*\u001b[49m\u001b[43m*\u001b[49m\u001b[43mrouted_params\u001b[49m\u001b[43m.\u001b[49m\u001b[43msplitter\u001b[49m\u001b[43m.\u001b[49m\u001b[43msplit\u001b[49m\u001b[43m)\u001b[49m\u001b[43m)\u001b[49m\u001b[43m,\u001b[49m\n\u001b[32m    985\u001b[39m \u001b[43m    \u001b[49m\u001b[43m)\u001b[49m\n\u001b[32m    986\u001b[39m \u001b[43m\u001b[49m\u001b[43m)\u001b[49m\n\u001b[32m    988\u001b[39m \u001b[38;5;28;01mif\u001b[39;00m \u001b[38;5;28mlen\u001b[39m(out) < \u001b[32m1\u001b[39m:\n\u001b[32m    989\u001b[39m     \u001b[38;5;28;01mraise\u001b[39;00m \u001b[38;5;167;01mValueError\u001b[39;00m(\n\u001b[32m    990\u001b[39m         \u001b[33m\"\u001b[39m\u001b[33mNo fits were performed. \u001b[39m\u001b[33m\"\u001b[39m\n\u001b[32m    991\u001b[39m         \u001b[33m\"\u001b[39m\u001b[33mWas the CV iterator empty? \u001b[39m\u001b[33m\"\u001b[39m\n\u001b[32m    992\u001b[39m         \u001b[33m\"\u001b[39m\u001b[33mWere there no candidates?\u001b[39m\u001b[33m\"\u001b[39m\n\u001b[32m    993\u001b[39m     )\n",
      "\u001b[36mFile \u001b[39m\u001b[32mc:\\Users\\victo\\AppData\\Local\\Programs\\Python\\Python313\\Lib\\site-packages\\sklearn\\utils\\parallel.py:77\u001b[39m, in \u001b[36mParallel.__call__\u001b[39m\u001b[34m(self, iterable)\u001b[39m\n\u001b[32m     72\u001b[39m config = get_config()\n\u001b[32m     73\u001b[39m iterable_with_config = (\n\u001b[32m     74\u001b[39m     (_with_config(delayed_func, config), args, kwargs)\n\u001b[32m     75\u001b[39m     \u001b[38;5;28;01mfor\u001b[39;00m delayed_func, args, kwargs \u001b[38;5;129;01min\u001b[39;00m iterable\n\u001b[32m     76\u001b[39m )\n\u001b[32m---> \u001b[39m\u001b[32m77\u001b[39m \u001b[38;5;28;01mreturn\u001b[39;00m \u001b[38;5;28;43msuper\u001b[39;49m\u001b[43m(\u001b[49m\u001b[43m)\u001b[49m\u001b[43m.\u001b[49m\u001b[34;43m__call__\u001b[39;49m\u001b[43m(\u001b[49m\u001b[43miterable_with_config\u001b[49m\u001b[43m)\u001b[49m\n",
      "\u001b[36mFile \u001b[39m\u001b[32mc:\\Users\\victo\\AppData\\Local\\Programs\\Python\\Python313\\Lib\\site-packages\\joblib\\parallel.py:2071\u001b[39m, in \u001b[36mParallel.__call__\u001b[39m\u001b[34m(self, iterable)\u001b[39m\n\u001b[32m   2065\u001b[39m \u001b[38;5;66;03m# The first item from the output is blank, but it makes the interpreter\u001b[39;00m\n\u001b[32m   2066\u001b[39m \u001b[38;5;66;03m# progress until it enters the Try/Except block of the generator and\u001b[39;00m\n\u001b[32m   2067\u001b[39m \u001b[38;5;66;03m# reaches the first `yield` statement. This starts the asynchronous\u001b[39;00m\n\u001b[32m   2068\u001b[39m \u001b[38;5;66;03m# dispatch of the tasks to the workers.\u001b[39;00m\n\u001b[32m   2069\u001b[39m \u001b[38;5;28mnext\u001b[39m(output)\n\u001b[32m-> \u001b[39m\u001b[32m2071\u001b[39m \u001b[38;5;28;01mreturn\u001b[39;00m output \u001b[38;5;28;01mif\u001b[39;00m \u001b[38;5;28mself\u001b[39m.return_generator \u001b[38;5;28;01melse\u001b[39;00m \u001b[38;5;28;43mlist\u001b[39;49m\u001b[43m(\u001b[49m\u001b[43moutput\u001b[49m\u001b[43m)\u001b[49m\n",
      "\u001b[36mFile \u001b[39m\u001b[32mc:\\Users\\victo\\AppData\\Local\\Programs\\Python\\Python313\\Lib\\site-packages\\joblib\\parallel.py:1681\u001b[39m, in \u001b[36mParallel._get_outputs\u001b[39m\u001b[34m(self, iterator, pre_dispatch)\u001b[39m\n\u001b[32m   1678\u001b[39m     \u001b[38;5;28;01myield\u001b[39;00m\n\u001b[32m   1680\u001b[39m     \u001b[38;5;28;01mwith\u001b[39;00m \u001b[38;5;28mself\u001b[39m._backend.retrieval_context():\n\u001b[32m-> \u001b[39m\u001b[32m1681\u001b[39m         \u001b[38;5;28;01myield from\u001b[39;00m \u001b[38;5;28mself\u001b[39m._retrieve()\n\u001b[32m   1683\u001b[39m \u001b[38;5;28;01mexcept\u001b[39;00m \u001b[38;5;167;01mGeneratorExit\u001b[39;00m:\n\u001b[32m   1684\u001b[39m     \u001b[38;5;66;03m# The generator has been garbage collected before being fully\u001b[39;00m\n\u001b[32m   1685\u001b[39m     \u001b[38;5;66;03m# consumed. This aborts the remaining tasks if possible and warn\u001b[39;00m\n\u001b[32m   1686\u001b[39m     \u001b[38;5;66;03m# the user if necessary.\u001b[39;00m\n\u001b[32m   1687\u001b[39m     \u001b[38;5;28mself\u001b[39m._exception = \u001b[38;5;28;01mTrue\u001b[39;00m\n",
      "\u001b[36mFile \u001b[39m\u001b[32mc:\\Users\\victo\\AppData\\Local\\Programs\\Python\\Python313\\Lib\\site-packages\\joblib\\parallel.py:1799\u001b[39m, in \u001b[36mParallel._retrieve\u001b[39m\u001b[34m(self)\u001b[39m\n\u001b[32m   1788\u001b[39m \u001b[38;5;28;01mif\u001b[39;00m \u001b[38;5;28mself\u001b[39m.return_ordered:\n\u001b[32m   1789\u001b[39m     \u001b[38;5;66;03m# Case ordered: wait for completion (or error) of the next job\u001b[39;00m\n\u001b[32m   1790\u001b[39m     \u001b[38;5;66;03m# that have been dispatched and not retrieved yet. If no job\u001b[39;00m\n\u001b[32m   (...)\u001b[39m\u001b[32m   1794\u001b[39m     \u001b[38;5;66;03m# control only have to be done on the amount of time the next\u001b[39;00m\n\u001b[32m   1795\u001b[39m     \u001b[38;5;66;03m# dispatched job is pending.\u001b[39;00m\n\u001b[32m   1796\u001b[39m     \u001b[38;5;28;01mif\u001b[39;00m (nb_jobs == \u001b[32m0\u001b[39m) \u001b[38;5;129;01mor\u001b[39;00m (\n\u001b[32m   1797\u001b[39m         \u001b[38;5;28mself\u001b[39m._jobs[\u001b[32m0\u001b[39m].get_status(timeout=\u001b[38;5;28mself\u001b[39m.timeout) == TASK_PENDING\n\u001b[32m   1798\u001b[39m     ):\n\u001b[32m-> \u001b[39m\u001b[32m1799\u001b[39m         \u001b[43mtime\u001b[49m\u001b[43m.\u001b[49m\u001b[43msleep\u001b[49m\u001b[43m(\u001b[49m\u001b[32;43m0.01\u001b[39;49m\u001b[43m)\u001b[49m\n\u001b[32m   1800\u001b[39m         \u001b[38;5;28;01mcontinue\u001b[39;00m\n\u001b[32m   1802\u001b[39m \u001b[38;5;28;01melif\u001b[39;00m nb_jobs == \u001b[32m0\u001b[39m:\n\u001b[32m   1803\u001b[39m     \u001b[38;5;66;03m# Case unordered: jobs are added to the list of jobs to\u001b[39;00m\n\u001b[32m   1804\u001b[39m     \u001b[38;5;66;03m# retrieve `self._jobs` only once completed or in error, which\u001b[39;00m\n\u001b[32m   (...)\u001b[39m\u001b[32m   1810\u001b[39m     \u001b[38;5;66;03m# timeouts before any other dispatched job has completed and\u001b[39;00m\n\u001b[32m   1811\u001b[39m     \u001b[38;5;66;03m# been added to `self._jobs` to be retrieved.\u001b[39;00m\n",
      "\u001b[31mKeyboardInterrupt\u001b[39m: "
     ]
>>>>>>> e5613e5a9d3754e50bc0f5688b6520af8c6117e3
    }
   ],
   "source": [
    "skf = StratifiedKFold(n_splits=5)\n",
    "for train, validation in skf.split(combined_normalised, class_ids):\n",
    "    break\n",
    "\n",
<<<<<<< HEAD
    "param_grid2 = {'C': [1,2]}\n",
=======
    "param_grid2 = {'C': [0.01, 0.1, 1, 10, 20, 50, 100]}\n",
>>>>>>> e5613e5a9d3754e50bc0f5688b6520af8c6117e3
    "logReg = sklearn.linear_model.LogisticRegression(\n",
    "        penalty='l1', solver='saga', multi_class='ovr', max_iter=10000, n_jobs=10\n",
    "    )\n",
    "oneRest = GridSearchCV(logReg, param_grid2, cv=5, n_jobs=8)\n",
<<<<<<< HEAD
    "oneRest.fit(combined_normalised, class_ids)"
=======
    "oneRest.fit(combined_normalised[train], class_ids[train])"
>>>>>>> e5613e5a9d3754e50bc0f5688b6520af8c6117e3
   ]
  },
  {
   "cell_type": "code",
<<<<<<< HEAD
   "execution_count": 15,
=======
   "execution_count": null,
   "id": "6b903db2",
   "metadata": {},
   "outputs": [],
   "source": []
  },
  {
   "cell_type": "code",
   "execution_count": null,
>>>>>>> e5613e5a9d3754e50bc0f5688b6520af8c6117e3
   "id": "14a80a43",
   "metadata": {},
   "outputs": [],
   "source": [
    "#bestModel = oneRest.best_estimator_\n",
    "bestModel = joblib.load(\"logreg_model.pkl\")\n",
<<<<<<< HEAD
    "# accuracy = cross_val_score(bestModel, combined_normalised, class_ids, cv=skf, n_jobs=4)\n",
=======
    "accuracy = cross_val_score(bestModel, combined_normalised, class_ids, cv=skf, n_jobs=4)\n",
>>>>>>> e5613e5a9d3754e50bc0f5688b6520af8c6117e3
    "#accuracy = joblib.load(\"accScore.txt\")"
   ]
  },
  {
   "cell_type": "code",
<<<<<<< HEAD
   "execution_count": 17,
   "id": "ee97af98",
   "metadata": {},
   "outputs": [
    {
     "data": {
      "text/plain": [
       "{'C': 1,\n",
       " 'class_weight': None,\n",
       " 'dual': False,\n",
       " 'fit_intercept': True,\n",
       " 'intercept_scaling': 1,\n",
       " 'l1_ratio': None,\n",
       " 'max_iter': 10000,\n",
       " 'multi_class': 'ovr',\n",
       " 'n_jobs': 10,\n",
       " 'penalty': 'l1',\n",
       " 'random_state': None,\n",
       " 'solver': 'saga',\n",
       " 'tol': 0.0001,\n",
       " 'verbose': 0,\n",
       " 'warm_start': False}"
      ]
     },
     "execution_count": 17,
     "metadata": {},
     "output_type": "execute_result"
    }
   ],
   "source": [
    "bestModel.get_params()"
   ]
  },
  {
   "cell_type": "code",
=======
>>>>>>> e5613e5a9d3754e50bc0f5688b6520af8c6117e3
   "execution_count": 24,
   "id": "57fa6d07",
   "metadata": {},
   "outputs": [
    {
     "data": {
      "text/plain": [
       "<Axes: >"
      ]
     },
     "execution_count": 24,
     "metadata": {},
     "output_type": "execute_result"
    },
    {
     "data": {
      "image/png": "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",
      "text/plain": [
       "<Figure size 640x480 with 2 Axes>"
      ]
     },
     "metadata": {},
     "output_type": "display_data"
    }
   ],
   "source": [
    "valid_eg = combined_normalised[validation]\n",
    "valid_id = class_ids[validation]\n",
    "cm = confusion_matrix(valid_id, bestModel.predict(valid_eg), normalize='true')\n",
    "sns.heatmap(cm)"
   ]
  },
  {
   "cell_type": "code",
   "execution_count": null,
   "id": "02607b5c",
   "metadata": {},
   "outputs": [],
   "source": []
  },
  {
   "cell_type": "code",
   "execution_count": null,
   "id": "2295d295",
   "metadata": {},
   "outputs": [],
   "source": []
  },
  {
   "cell_type": "code",
   "execution_count": 10,
   "id": "f88e4fa5",
   "metadata": {},
   "outputs": [],
   "source": [
    "output = pd.DataFrame()\n",
    "output[\"id\"] = test_ids\n",
    "output[\"ClassId\"] = bestModel.predict(combined_test_normalised)\n",
    "output.to_csv(\"output.csv\", index=False)"
   ]
  }
 ],
 "metadata": {
  "kernelspec": {
   "display_name": "Python 3",
   "language": "python",
   "name": "python3"
  },
  "language_info": {
   "codemirror_mode": {
    "name": "ipython",
    "version": 3
   },
   "file_extension": ".py",
   "mimetype": "text/x-python",
   "name": "python",
   "nbconvert_exporter": "python",
   "pygments_lexer": "ipython3",
   "version": "3.13.0"
  }
 },
 "nbformat": 4,
 "nbformat_minor": 5
}
