{
 "cells": [
  {
   "cell_type": "code",
   "execution_count": 27,
   "id": "5974221f",
   "metadata": {},
   "outputs": [],
   "source": [
    "import numpy as numpy\n",
    "import pandas as pd\n",
    "import matplotlib as mpl\n",
    "import sklearn.linear_model\n",
    "from sklearn.model_selection import GridSearchCV\n",
    "from sklearn.metrics import confusion_matrix\n",
    "import seaborn as sns\n",
    "from sklearn.model_selection import StratifiedKFold, KFold"
   ]
  },
  {
   "cell_type": "code",
   "execution_count": 2,
   "id": "1f69bc81",
   "metadata": {},
   "outputs": [],
   "source": [
    "# Features we were given\n",
    "hog_pca = pd.read_csv(\"train/Features/hog_pca.csv\")\n",
    "color_hist = pd.read_csv(\"train/Features/color_histogram.csv\")\n",
    "additional_features = pd.read_csv(\"train/Features/additional_features.csv\")\n",
    "train_metadata = pd.read_csv(\"train/Features/train_metadata.csv\")"
   ]
  },
  {
   "cell_type": "code",
   "execution_count": 4,
   "id": "a1013331",
   "metadata": {},
   "outputs": [],
   "source": [
    "hog_pca_test = pd.read_csv(\"test/Features/hog_pca.csv\")\n",
    "color_hist_test = pd.read_csv(\"test/Features/color_histogram.csv\")\n",
    "additional_features_test = pd.read_csv(\"test/Features/additional_features.csv\")\n",
    "test_metadata = pd.read_csv(\"test/Features/test_metadata.csv\")"
   ]
  },
  {
   "cell_type": "code",
   "execution_count": 5,
   "id": "6af5e329",
   "metadata": {},
   "outputs": [],
   "source": [
    "class_ids = train_metadata[\"ClassId\"]\n",
    "test_ids = test_metadata[\"id\"]"
   ]
  },
  {
   "cell_type": "code",
   "execution_count": 26,
   "id": "89eea226",
   "metadata": {},
   "outputs": [
    {
     "data": {
      "text/plain": [
       "ClassId\n",
       "2     315\n",
       "1     311\n",
       "13    302\n",
       "12    294\n",
       "38    290\n",
       "10    281\n",
       "4     277\n",
       "5     260\n",
       "25    210\n",
       "9     206\n",
       "7     202\n",
       "8     197\n",
       "3     197\n",
       "11    185\n",
       "35    168\n",
       "18    168\n",
       "17    155\n",
       "14    109\n",
       "31    109\n",
       "33     96\n",
       "15     88\n",
       "26     84\n",
       "28     76\n",
       "23     71\n",
       "30     63\n",
       "34     59\n",
       "16     59\n",
       "6      59\n",
       "36     55\n",
       "22     55\n",
       "20     50\n",
       "40     50\n",
       "21     46\n",
       "39     42\n",
       "29     38\n",
       "24     38\n",
       "42     34\n",
       "41     34\n",
       "27     34\n",
       "32     34\n",
       "19     29\n",
       "0      29\n",
       "37     29\n",
       "Name: count, dtype: int64"
      ]
     },
     "execution_count": 26,
     "metadata": {},
     "output_type": "execute_result"
    }
   ],
   "source": [
    "class_ids.value_counts()"
   ]
  },
  {
   "cell_type": "markdown",
   "id": "1c15455b",
   "metadata": {},
   "source": [
    "Since the distribution of our classes is so uneven - we sample split each class "
   ]
  },
  {
   "cell_type": "code",
   "execution_count": null,
   "id": "fb0d107c",
   "metadata": {},
   "outputs": [],
   "source": []
  },
  {
   "cell_type": "code",
   "execution_count": null,
   "id": "f88e4fa5",
   "metadata": {},
   "outputs": [],
   "source": [
    "param_grid2 = {'C': [1, 10, 20]}\n",
    "logReg = sklearn.linear_model.LogisticRegression(\n",
    "    penalty='l1', solver='saga', multi_class='multinomial', max_iter=10000, n_jobs=-1\n",
    ")\n",
    "oneRest = GridSearchCV(logReg, param_grid2, cv=5)\n",
    "oneRest.fit(stratified, stratified_labels)"
   ]
  }
 ],
 "metadata": {
  "kernelspec": {
   "display_name": "Python 3",
   "language": "python",
   "name": "python3"
  },
  "language_info": {
   "codemirror_mode": {
    "name": "ipython",
    "version": 3
   },
   "file_extension": ".py",
   "mimetype": "text/x-python",
   "name": "python",
   "nbconvert_exporter": "python",
   "pygments_lexer": "ipython3",
   "version": "3.11.4"
  }
 },
 "nbformat": 4,
 "nbformat_minor": 5
}
