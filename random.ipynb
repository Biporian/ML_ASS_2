{
 "cells": [
  {
   "cell_type": "code",
   "execution_count": null,
   "id": "c7795c96",
   "metadata": {},
   "outputs": [
    {
     "name": "stdout",
     "output_type": "stream",
     "text": [
      "Fitting 3 folds for each of 250 candidates, totalling 750 fits\n"
     ]
    }
   ],
   "source": [
    "import numpy as numpy\n",
    "import pandas as pd\n",
    "import matplotlib as mpl\n",
    "from sklearn.metrics import confusion_matrix\n",
    "from sklearn.ensemble import RandomForestClassifier\n",
    "import seaborn as sns\n",
    "from sklearn.preprocessing import StandardScaler\n",
    "from sklearn.model_selection import StratifiedKFold, GridSearchCV, RandomizedSearchCV\n",
    "import joblib\n",
    "from sklearn.svm import SVC\n",
    "from scipy.stats import loguniform\n",
    "import numpy as np\n",
    "from sklearn.pipeline import make_pipeline\n",
    "from sklearn.linear_model import LogisticRegression\n",
    "from sklearn.multiclass import OneVsRestClassifier\n",
    "\n",
    "train_df = pd.read_csv(\"combined_train.csv\")\n",
    "test_df = pd.read_csv(\"combined_test.csv\")\n",
    "train_metadata = pd.read_csv(\"train/train_metadata.csv\")\n",
    "test_metadata = pd.read_csv(\"test/test_metadata.csv\")\n",
    "\n",
    "class_ids = train_metadata[\"ClassId\"]\n",
    "test_ids = test_metadata['id']\n",
    "combined_train = train_df.drop(\"image_path\", axis = 1)\n",
    "combined_test = test_df.drop(\"image_path\", axis=1)\n",
    "\n",
    "digits = pd.read_csv(\"./dig_feature/ocr_digit_detection.csv\")\n",
    "pixels = pd.read_csv(\"./image_flat/flattened_images.csv\")\n",
    "cnn = pd.read_csv(\"./CNN_feature/cnn_features.csv\")\n",
    "\n",
    "new_train = pd.concat([train_df, cnn, digits], axis=1, join=\"inner\")\n",
    "new_train = new_train.drop(\"image_path\", axis=1)\n",
    "\n",
    "\n",
    "n_estimators =  [200, 500, 1000, 2000]\n",
    "max_features = [0.01, 0.1, 'sqrt', \"log2\"]\n",
    "max_depth = list(range(20, 111, 10))\n",
    "max_depth.append(None)\n",
    "min_samples_split = [2, 3, 4, 5]\n",
    "min_samples_leaf = [1, 2, 3, 0.5]\n",
    "random_grid = {'n_estimators': n_estimators,\n",
    "               'max_features': max_features,\n",
    "               'max_depth': max_depth,\n",
    "               'min_samples_split': min_samples_split,\n",
    "               'min_samples_leaf': min_samples_leaf}\n",
    "\n",
    "model = RandomForestClassifier(class_weight='balanced', verbose=1)\n",
    "rf_random = RandomizedSearchCV(estimator = model, param_distributions = random_grid, n_iter = 250, cv = 3, verbose=1, n_jobs = -1, error_score='raise')\n",
    "rf_random.fit(new_train, class_ids)\n",
    "joblib.dump(rf_random, \"post-RF.pkl\")"
   ]
  }
 ],
 "metadata": {
  "kernelspec": {
   "display_name": "Python 3",
   "language": "python",
   "name": "python3"
  },
  "language_info": {
   "codemirror_mode": {
    "name": "ipython",
    "version": 3
   },
   "file_extension": ".py",
   "mimetype": "text/x-python",
   "name": "python",
   "nbconvert_exporter": "python",
   "pygments_lexer": "ipython3",
   "version": "3.13.2"
  }
 },
 "nbformat": 4,
 "nbformat_minor": 5
}
