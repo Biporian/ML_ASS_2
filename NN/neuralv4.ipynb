{
 "cells": [
  {
   "cell_type": "code",
   "execution_count": 11,
   "id": "8972195b",
   "metadata": {},
   "outputs": [],
   "source": [
    "import pandas as pd"
   ]
  },
  {
   "cell_type": "code",
   "execution_count": 12,
   "id": "2530077f",
   "metadata": {},
   "outputs": [],
   "source": [
    "pixels = pd.read_csv(\"../image_flat/flattened_images.csv\")\n",
    "train_metadata = pd.read_csv(\"../train/train_metadata.csv\")\n",
    "merged_df = pixels.merge(train_metadata, on='image_path')\n",
    "hog_pca = pd.read_csv(\"../train/Features/hog_pca.csv\")\n",
    "color_hist = pd.read_csv(\"../train/Features/color_histogram.csv\")\n",
    "additional_features = pd.read_csv(\"../train/Features/additional_features.csv\")\n",
    "digits = pd.read_csv(\"../dig_feature/ocr_digit_detection.csv\")\n",
    "\n",
    "# Base dataframe\n",
    "merged_df = pixels.merge(train_metadata, on='image_path')\n",
    "\n",
    "# Merge with feature sets (on image_path)\n",
    "merged_df = merged_df.merge(hog_pca, on='image_path')\n",
    "merged_df = merged_df.merge(color_hist, on='image_path')\n",
    "merged_df = merged_df.merge(additional_features, on='image_path')\n",
    "merged_df = merged_df.merge(digits, on='image_path')\n",
    "\n",
    "\n",
    "# display(merged_df)\n",
    "\n"
   ]
  },
  {
   "cell_type": "code",
   "execution_count": 13,
   "id": "643accc5",
   "metadata": {},
   "outputs": [
    {
     "name": "stdout",
     "output_type": "stream",
     "text": [
      "1157\n"
     ]
    }
   ],
   "source": [
    "print(len(merged_df.columns))"
   ]
  },
  {
   "cell_type": "code",
   "execution_count": 14,
   "id": "854daaa0",
   "metadata": {},
   "outputs": [],
   "source": [
    "from sklearn.model_selection import train_test_split\n",
    "from sklearn.preprocessing import StandardScaler\n",
    "\n",
    "# Split dataset first\n",
    "train_df, test_df = train_test_split(\n",
    "    merged_df, \n",
    "    test_size=0.2, \n",
    "    stratify=merged_df['ClassId'], \n",
    "    random_state=42\n",
    ")\n",
    "\n",
    "# Features to normalize (exclude keys and target)\n",
    "features = train_df.columns.difference(['image_path', 'ClassId'])\n",
    "\n",
    "# Initialize scaler\n",
    "scaler = StandardScaler()\n",
    "\n",
    "# Fit scaler on train features only\n",
    "scaler.fit(train_df[features])\n",
    "\n",
    "# Convert columns to float before assignment\n",
    "train_df[features] = train_df[features].astype(float)\n",
    "test_df[features] = test_df[features].astype(float)\n",
    "\n",
    "# Now assign the scaled values\n",
    "train_df.loc[:, features] = scaler.transform(train_df[features])\n",
    "test_df.loc[:, features] = scaler.transform(test_df[features])\n",
    "\n",
    "# Extract X and y\n",
    "X_train = train_df.drop(['image_path', 'ClassId'], axis=1).values\n",
    "y_train = train_df['ClassId'].values\n",
    "\n",
    "X_test = test_df.drop(['image_path', 'ClassId'], axis=1).values\n",
    "y_test = test_df['ClassId'].values"
   ]
  },
  {
   "cell_type": "code",
   "execution_count": 15,
   "id": "6e7a9fbf",
   "metadata": {},
   "outputs": [
    {
     "name": "stdout",
     "output_type": "stream",
     "text": [
      "Test Accuracy: 0.8907\n"
     ]
    }
   ],
   "source": [
    "from sklearn.neural_network import MLPClassifier\n",
    "from sklearn.model_selection import train_test_split\n",
    "from sklearn.metrics import accuracy_score\n",
    "\n",
    "# Split into train/test sets\n",
    "# X_train, X_test, y_train, y_test = train_test_split(X, y, test_size=0.2, random_state=42)\n",
    "\n",
    "# Define the model\n",
    "clf = MLPClassifier(hidden_layer_sizes=(500,), max_iter=300, random_state=42)\n",
    "\n",
    "# Train\n",
    "clf.fit(X_train, y_train)\n",
    "\n",
    "# Evaluate\n",
    "y_pred = clf.predict(X_test)\n",
    "accuracy = accuracy_score(y_test, y_pred)\n",
    "print(f\"Test Accuracy: {accuracy:.4f}\")"
   ]
  },
  {
   "cell_type": "code",
   "execution_count": 16,
   "id": "95b370d4",
   "metadata": {},
   "outputs": [
    {
     "data": {
      "text/html": [
       "<div>\n",
       "<style scoped>\n",
       "    .dataframe tbody tr th:only-of-type {\n",
       "        vertical-align: middle;\n",
       "    }\n",
       "\n",
       "    .dataframe tbody tr th {\n",
       "        vertical-align: top;\n",
       "    }\n",
       "\n",
       "    .dataframe thead th {\n",
       "        text-align: right;\n",
       "    }\n",
       "</style>\n",
       "<table border=\"1\" class=\"dataframe\">\n",
       "  <thead>\n",
       "    <tr style=\"text-align: right;\">\n",
       "      <th></th>\n",
       "      <th>Class</th>\n",
       "      <th>Misclassified Count</th>\n",
       "      <th>Total Samples</th>\n",
       "      <th>Misclassification Rate</th>\n",
       "    </tr>\n",
       "  </thead>\n",
       "  <tbody>\n",
       "    <tr>\n",
       "      <th>19</th>\n",
       "      <td>19</td>\n",
       "      <td>3</td>\n",
       "      <td>6</td>\n",
       "      <td>0.500000</td>\n",
       "    </tr>\n",
       "    <tr>\n",
       "      <th>24</th>\n",
       "      <td>24</td>\n",
       "      <td>3</td>\n",
       "      <td>8</td>\n",
       "      <td>0.375000</td>\n",
       "    </tr>\n",
       "    <tr>\n",
       "      <th>0</th>\n",
       "      <td>0</td>\n",
       "      <td>2</td>\n",
       "      <td>6</td>\n",
       "      <td>0.333333</td>\n",
       "    </tr>\n",
       "    <tr>\n",
       "      <th>20</th>\n",
       "      <td>20</td>\n",
       "      <td>3</td>\n",
       "      <td>10</td>\n",
       "      <td>0.300000</td>\n",
       "    </tr>\n",
       "    <tr>\n",
       "      <th>29</th>\n",
       "      <td>29</td>\n",
       "      <td>2</td>\n",
       "      <td>7</td>\n",
       "      <td>0.285714</td>\n",
       "    </tr>\n",
       "    <tr>\n",
       "      <th>26</th>\n",
       "      <td>26</td>\n",
       "      <td>4</td>\n",
       "      <td>17</td>\n",
       "      <td>0.235294</td>\n",
       "    </tr>\n",
       "    <tr>\n",
       "      <th>30</th>\n",
       "      <td>30</td>\n",
       "      <td>3</td>\n",
       "      <td>13</td>\n",
       "      <td>0.230769</td>\n",
       "    </tr>\n",
       "    <tr>\n",
       "      <th>21</th>\n",
       "      <td>21</td>\n",
       "      <td>2</td>\n",
       "      <td>9</td>\n",
       "      <td>0.222222</td>\n",
       "    </tr>\n",
       "    <tr>\n",
       "      <th>1</th>\n",
       "      <td>1</td>\n",
       "      <td>13</td>\n",
       "      <td>62</td>\n",
       "      <td>0.209677</td>\n",
       "    </tr>\n",
       "    <tr>\n",
       "      <th>3</th>\n",
       "      <td>3</td>\n",
       "      <td>8</td>\n",
       "      <td>39</td>\n",
       "      <td>0.205128</td>\n",
       "    </tr>\n",
       "  </tbody>\n",
       "</table>\n",
       "</div>"
      ],
      "text/plain": [
       "    Class  Misclassified Count  Total Samples  Misclassification Rate\n",
       "19     19                    3              6                0.500000\n",
       "24     24                    3              8                0.375000\n",
       "0       0                    2              6                0.333333\n",
       "20     20                    3             10                0.300000\n",
       "29     29                    2              7                0.285714\n",
       "26     26                    4             17                0.235294\n",
       "30     30                    3             13                0.230769\n",
       "21     21                    2              9                0.222222\n",
       "1       1                   13             62                0.209677\n",
       "3       3                    8             39                0.205128"
      ]
     },
     "metadata": {},
     "output_type": "display_data"
    }
   ],
   "source": [
    "from sklearn.metrics import confusion_matrix, classification_report\n",
    "import numpy as np\n",
    "import pandas as pd\n",
    "\n",
    "# Assuming y and y_pred are already defined as in your code\n",
    "\n",
    "# 1. Confusion matrix\n",
    "cm = confusion_matrix(y_test, y_pred)\n",
    "\n",
    "# 2. Print classification report (precision, recall, f1-score per class)\n",
    "#print(classification_report(y_test, y_pred))\n",
    "\n",
    "# 3. Identify most misclassified classes\n",
    "\n",
    "# Number of classes\n",
    "num_classes = cm.shape[0]\n",
    "\n",
    "# For each class, calculate how many samples were misclassified (i.e., total samples - correctly predicted)\n",
    "misclassified_counts = cm.sum(axis=1) - np.diag(cm)\n",
    "\n",
    "# Put results in a DataFrame for easier viewing\n",
    "df_misclass = pd.DataFrame({\n",
    "    'Class': range(num_classes),  # or use your actual class labels if you have a mapping\n",
    "    'Misclassified Count': misclassified_counts,\n",
    "    'Total Samples': cm.sum(axis=1),\n",
    "    'Misclassification Rate': misclassified_counts / cm.sum(axis=1)\n",
    "})\n",
    "\n",
    "# Sort by highest misclassification rate or count\n",
    "df_misclass_sorted = df_misclass.sort_values(by='Misclassification Rate', ascending=False)\n",
    "display(df_misclass_sorted.head(10))  # top 10 worst classes"
   ]
  },
  {
   "cell_type": "code",
   "execution_count": 17,
   "id": "240b09dd",
   "metadata": {},
   "outputs": [
    {
     "data": {
      "image/png": "[encoded data removed]",
      "text/plain": [
       "<Figure size 1200x1000 with 2 Axes>"
      ]
     },
     "metadata": {},
     "output_type": "display_data"
    }
   ],
   "source": [
    "import matplotlib.pyplot as plt\n",
    "import seaborn as sns\n",
    "from sklearn.metrics import confusion_matrix\n",
    "\n",
    "# Compute confusion matrix (you already have this)\n",
    "cm = confusion_matrix(y_test, y_pred)\n",
    "\n",
    "# Plot the heatmap\n",
    "plt.figure(figsize=(12, 10))\n",
    "sns.heatmap(cm, annot=False, cmap='Blues')  # annot=True if you want numbers in cells\n",
    "\n",
    "plt.xlabel(\"Predicted Label\")\n",
    "plt.ylabel(\"True Label\")\n",
    "plt.title(\"Confusion Matrix\")\n",
    "plt.tight_layout()\n",
    "plt.show()"
   ]
  }
 ],
 "metadata": {
  "kernelspec": {
   "display_name": "Python 3",
   "language": "python",
   "name": "python3"
  },
  "language_info": {
   "codemirror_mode": {
    "name": "ipython",
    "version": 3
   },
   "file_extension": ".py",
   "mimetype": "text/x-python",
   "name": "python",
   "nbconvert_exporter": "python",
   "pygments_lexer": "ipython3",
   "version": "3.13.2"
  }
 },
 "nbformat": 4,
 "nbformat_minor": 5
}
