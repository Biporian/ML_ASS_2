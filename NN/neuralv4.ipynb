{
 "cells": [
  {
   "cell_type": "code",
   "execution_count": 151,
   "id": "8972195b",
   "metadata": {},
   "outputs": [],
   "source": [
    "import pandas as pd"
   ]
  },
  {
   "cell_type": "code",
   "execution_count": 152,
   "id": "2530077f",
   "metadata": {},
   "outputs": [],
   "source": [
    "pixels = pd.read_csv(\"../image_flat/flattened_images.csv\")\n",
    "train_metadata = pd.read_csv(\"../train/train_metadata.csv\")\n",
    "merged_df = pixels.merge(train_metadata, on='image_path')\n",
    "hog_pca = pd.read_csv(\"../train/Features/hog_pca.csv\")\n",
    "color_hist = pd.read_csv(\"../train/Features/color_histogram.csv\")\n",
    "additional_features = pd.read_csv(\"../train/Features/additional_features.csv\")\n",
    "digits = pd.read_csv(\"../dig_feature/ocr_digit_detection.csv\")\n",
    "\n",
    "# Base dataframe\n",
    "merged_df = pixels.merge(train_metadata, on='image_path')\n",
    "merged_df = merged_df.merge(digits, on = 'image_path')\n",
    "merged_df = merged_df.merge(color_hist, on = 'image_path')\n",
    "merged_df = merged_df.merge(hog_pca, on = 'image_path')\n",
    "merged_df = merged_df.merge(additional_features, on = 'image_path')\n",
    "# Merge with feature sets (on image_path)\n",
    "#merged_df = merged_df.merge(hog_pca, on='image_path')\n",
    "#merged_df = merged_df.merge(color_hist, on='image_path')\n",
    "#merged_df = merged_df.merge(additional_features, on='image_path')\n",
    "#merged_df = merged_df.merge(digits, on='image_path')\n",
    "\n",
    "test_df = pd.read_csv(\"../combined_test.csv\")\n",
    "#test_df = test_df.merge(pd.read_csv(\"../dig_feature/ocr_digit_detection_test.csv\"), on='image_path', how ='inner')\n",
    "test_df = test_df.merge(pd.read_csv(\"../image_flat/flattened_images_test.csv\"), on='image_path', how ='inner')\n",
    "# display(merged_df)\n",
    "test_df = pd.read_csv(\"../image_flat/flattened_images_test.csv\")\n",
    "test_df = test_df.merge(pd.read_csv(\"../dig_feature/ocr_digit_detection_test.csv\"), on='image_path', how ='inner')\n",
    "test_df = test_df.merge(pd.read_csv(\"../test/Features/color_histogram.csv\"), on='image_path', how ='inner')\n",
    "test_df = test_df.merge(pd.read_csv(\"../test/Features/hog_pca.csv\"), on='image_path', how ='inner')\n",
    "test_df = test_df.merge(pd.read_csv(\"../test/Features/additional_features.csv\"), on='image_path', how ='inner')\n"
   ]
  },
  {
   "cell_type": "code",
   "execution_count": null,
   "id": "95395627",
   "metadata": {},
   "outputs": [
    {
     "data": {
      "image/png": "[encoded data removed]",
      "text/plain": [
       "<Figure size 640x480 with 1 Axes>"
      ]
     },
     "metadata": {},
     "output_type": "display_data"
    }
   ],
   "source": [
    "temp = test_df[:1]\n",
    "import numpy as np\n",
    "import matplotlib.pyplot as plt\n",
    "from PIL import Image\n",
    "\n",
    "\n",
    "pixel_columns = [col for col in temp.columns if col.startswith('pixel_')]\n",
    "\n",
    "\n",
    "row = temp[pixel_columns].iloc[0].values.astype(np.uint8)\n",
    "image_array = row.reshape((32, 32))\n",
    "\n",
    "\n",
    "plt.imshow(image_array, cmap='gray')\n",
    "plt.axis('off')\n",
    "plt.show()\n",
    "\n",
    "\n",
    "image = Image.fromarray(image_array)\n"
   ]
  },
  {
   "cell_type": "code",
   "execution_count": null,
   "id": "854daaa0",
   "metadata": {},
   "outputs": [],
   "source": [
    "from sklearn.model_selection import train_test_split\n",
    "from sklearn.preprocessing import StandardScaler\n",
    "\n",
    "\n",
    "train_df = merged_df.drop(columns=['id'])\n",
    "\n",
    "\n",
    "features = train_df.columns.difference(['image_path', 'ClassId'])\n",
    "\n",
    "\n",
    "scaler = StandardScaler()\n",
    "\n",
    "scaler.fit(train_df[features])\n",
    "\n",
    "train_df[features] = train_df[features].astype(float)\n",
    "test_df[features] = test_df[features].astype(float)\n",
    "\n",
    "\n",
    "train_df.loc[:, features] = scaler.transform(train_df[features])\n",
    "test_df.loc[:, features] = scaler.transform(test_df[features])\n",
    "\n",
    "\n",
    "X_train = train_df.drop(['image_path', 'ClassId'], axis=1).values\n",
    "y_train = train_df['ClassId'].values\n",
    "\n",
    "X_test = test_df.drop(['image_path'], axis=1).values"
   ]
  },
  {
   "cell_type": "code",
   "execution_count": null,
   "id": "6e7a9fbf",
   "metadata": {},
   "outputs": [
    {
     "name": "stdout",
     "output_type": "stream",
     "text": [
      "Test Accuracy: 1.0000\n"
     ]
    }
   ],
   "source": [
    "from sklearn.neural_network import MLPClassifier\n",
    "from sklearn.model_selection import train_test_split\n",
    "from sklearn.metrics import accuracy_score\n",
    "\n",
    "\n",
    "clf = MLPClassifier(hidden_layer_sizes=(500,), max_iter=300, random_state=42)\n",
    "\n",
    "\n",
    "clf.fit(X_train, y_train)\n",
    "\n",
    "\n",
    "y_pred = clf.predict(X_test)\n",
    "\n",
    "\n",
    "check = clf.predict(X_train)\n",
    "accuracy = accuracy_score(y_train, check)\n",
    "print(f\"Test Accuracy: {accuracy:.4f}\")\n"
   ]
  },
  {
   "cell_type": "code",
   "execution_count": 156,
   "id": "052ecb35",
   "metadata": {},
   "outputs": [
    {
     "data": {
      "text/plain": [
       "array([12, 16, 39, ..., 25, 34, 36], shape=(2353,))"
      ]
     },
     "execution_count": 156,
     "metadata": {},
     "output_type": "execute_result"
    }
   ],
   "source": [
    "y_pred"
   ]
  },
  {
   "cell_type": "code",
   "execution_count": 157,
   "id": "9ac15c4d",
   "metadata": {},
   "outputs": [
    {
     "data": {
      "text/html": [
       "<div>\n",
       "<style scoped>\n",
       "    .dataframe tbody tr th:only-of-type {\n",
       "        vertical-align: middle;\n",
       "    }\n",
       "\n",
       "    .dataframe tbody tr th {\n",
       "        vertical-align: top;\n",
       "    }\n",
       "\n",
       "    .dataframe thead th {\n",
       "        text-align: right;\n",
       "    }\n",
       "</style>\n",
       "<table border=\"1\" class=\"dataframe\">\n",
       "  <thead>\n",
       "    <tr style=\"text-align: right;\">\n",
       "      <th></th>\n",
       "      <th>id</th>\n",
       "      <th>ClassId</th>\n",
       "    </tr>\n",
       "  </thead>\n",
       "  <tbody>\n",
       "    <tr>\n",
       "      <th>0</th>\n",
       "      <td>661</td>\n",
       "      <td>12</td>\n",
       "    </tr>\n",
       "    <tr>\n",
       "      <th>1</th>\n",
       "      <td>4477</td>\n",
       "      <td>16</td>\n",
       "    </tr>\n",
       "    <tr>\n",
       "      <th>2</th>\n",
       "      <td>1046</td>\n",
       "      <td>39</td>\n",
       "    </tr>\n",
       "    <tr>\n",
       "      <th>3</th>\n",
       "      <td>631</td>\n",
       "      <td>5</td>\n",
       "    </tr>\n",
       "    <tr>\n",
       "      <th>4</th>\n",
       "      <td>6533</td>\n",
       "      <td>3</td>\n",
       "    </tr>\n",
       "    <tr>\n",
       "      <th>...</th>\n",
       "      <td>...</td>\n",
       "      <td>...</td>\n",
       "    </tr>\n",
       "    <tr>\n",
       "      <th>2348</th>\n",
       "      <td>2218</td>\n",
       "      <td>31</td>\n",
       "    </tr>\n",
       "    <tr>\n",
       "      <th>2349</th>\n",
       "      <td>4952</td>\n",
       "      <td>9</td>\n",
       "    </tr>\n",
       "    <tr>\n",
       "      <th>2350</th>\n",
       "      <td>1394</td>\n",
       "      <td>25</td>\n",
       "    </tr>\n",
       "    <tr>\n",
       "      <th>2351</th>\n",
       "      <td>3161</td>\n",
       "      <td>34</td>\n",
       "    </tr>\n",
       "    <tr>\n",
       "      <th>2352</th>\n",
       "      <td>1169</td>\n",
       "      <td>36</td>\n",
       "    </tr>\n",
       "  </tbody>\n",
       "</table>\n",
       "<p>2353 rows × 2 columns</p>\n",
       "</div>"
      ],
      "text/plain": [
       "        id  ClassId\n",
       "0      661       12\n",
       "1     4477       16\n",
       "2     1046       39\n",
       "3      631        5\n",
       "4     6533        3\n",
       "...    ...      ...\n",
       "2348  2218       31\n",
       "2349  4952        9\n",
       "2350  1394       25\n",
       "2351  3161       34\n",
       "2352  1169       36\n",
       "\n",
       "[2353 rows x 2 columns]"
      ]
     },
     "metadata": {},
     "output_type": "display_data"
    }
   ],
   "source": [
    "results = pd.read_csv(\"../test/test_metadata.csv\")\n",
    "predicted = test_df[['image_path']].copy()\n",
    "predicted['predictions'] = y_pred\n",
    "results = results.merge(predicted, on='image_path', how='inner')\n",
    "results['ClassId'] = results['predictions']\n",
    "results = results.drop(columns = ['predictions', 'image_path'])\n",
    "display(results)\n",
    "results.to_csv(\"results.csv\", index=False)"
   ]
  }
 ],
 "metadata": {
  "kernelspec": {
   "display_name": "Python 3",
   "language": "python",
   "name": "python3"
  },
  "language_info": {
   "codemirror_mode": {
    "name": "ipython",
    "version": 3
   },
   "file_extension": ".py",
   "mimetype": "text/x-python",
   "name": "python",
   "nbconvert_exporter": "python",
   "pygments_lexer": "ipython3",
   "version": "3.13.2"
  }
 },
 "nbformat": 4,
 "nbformat_minor": 5
}
