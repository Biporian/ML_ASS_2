{
 "cells": [
  {
   "cell_type": "code",
   "execution_count": 28,
   "id": "d6bdd7f0",
   "metadata": {},
   "outputs": [],
   "source": [
    "from PIL import Image\n",
    "import os\n",
    "\n",
    "# Input and output folders\n",
    "input_folder = './train'\n",
    "output_folder = './train_32x32'\n",
    "\n",
    "# Create output folder if it doesn't exist\n",
    "os.makedirs(output_folder, exist_ok=True)\n",
    "\n",
    "def center_crop_to_square(img):\n",
    "    width, height = img.size\n",
    "    min_dim = min(width, height)\n",
    "    left = (width - min_dim) // 2\n",
    "    top = (height - min_dim) // 2\n",
    "    right = left + min_dim\n",
    "    bottom = top + min_dim\n",
    "    return img.crop((left, top, right, bottom))\n",
    "\n",
    "for filename in os.listdir(input_folder):\n",
    "#for filename in ['img_000015.jpg']:\n",
    "    if filename.lower().endswith(('.png', '.jpg', '.jpeg', '.bmp', '.gif')):\n",
    "        img_path = os.path.join(input_folder, filename)\n",
    "        img = Image.open(img_path).convert('RGB')  # Ensure 3-channel RGB\n",
    "\n",
    "        # Crop to square around center\n",
    "        cropped = center_crop_to_square(img)\n",
    "\n",
    "        # Resize to 32x32\n",
    "        resized = cropped.resize((32, 32), Image.Resampling.LANCZOS)\n",
    "\n",
    "        # Save to output folder\n",
    "        resized.save(os.path.join(output_folder, filename))"
   ]
  },
  {
   "cell_type": "code",
   "execution_count": 29,
   "id": "d52a69bf",
   "metadata": {},
   "outputs": [],
   "source": [
    "from PIL import Image, ImageEnhance\n",
    "import os\n",
    "\n",
    "input_folder = './train_32x32'\n",
    "output_folder = './train_32x32_gray_contrast'\n",
    "\n",
    "os.makedirs(output_folder, exist_ok=True)\n",
    "\n",
    "for filename in os.listdir(input_folder):\n",
    "#for filename in ['img_000015.jpg']:\n",
    "    if filename.lower().endswith(('.png', '.jpg', '.jpeg', '.bmp', '.gif')):\n",
    "        img_path = os.path.join(input_folder, filename)\n",
    "        img = Image.open(img_path).convert('L')  # Convert to grayscale\n",
    "\n",
    "        # Enhance contrast\n",
    "        enhancer = ImageEnhance.Contrast(img)\n",
    "        img_contrast = enhancer.enhance(4.0)  # Contrast factor (1.0 = original, >1 = more contrast)\n",
    "\n",
    "        # Save processed image\n",
    "        img_contrast.save(os.path.join(output_folder, filename))"
   ]
  },
  {
   "cell_type": "code",
   "execution_count": 30,
   "id": "fed24d23",
   "metadata": {},
   "outputs": [
    {
     "name": "stdout",
     "output_type": "stream",
     "text": [
      "Saved 5488 image vectors to flattened_images.csv\n"
     ]
    }
   ],
   "source": [
    "from PIL import Image\n",
    "import numpy as np\n",
    "import os\n",
    "import pandas as pd\n",
    "\n",
    "input_folder = './train_32x32_gray_contrast'\n",
    "output_csv = 'flattened_images.csv'\n",
    "\n",
    "data = []\n",
    "\n",
    "for filename in os.listdir(input_folder):\n",
    "    if filename.lower().endswith(('.png', '.jpg', '.jpeg', '.bmp', '.gif')):\n",
    "        img_path = os.path.join(input_folder, filename)\n",
    "        img = Image.open(img_path).convert('L')  # Convert to grayscale\n",
    "        img_resized = img.resize((32, 32), Image.Resampling.LANCZOS)\n",
    "        \n",
    "        # Flatten image to 1D vector\n",
    "        arr = np.array(img_resized).flatten()  # shape: (1024,)\n",
    "        \n",
    "        # Add image filename at the end\n",
    "        row = arr.tolist() + [filename]\n",
    "        data.append(row)\n",
    "\n",
    "# Create column names: pixel_0 ... pixel_1023, image_path\n",
    "column_names = [f'pixel_{i}' for i in range(1024)] + ['image_path']\n",
    "\n",
    "# Create DataFrame and save to CSV\n",
    "df = pd.DataFrame(data, columns=column_names)\n",
    "df.to_csv(output_csv, index=False)\n",
    "\n",
    "print(f\"Saved {len(df)} image vectors to {output_csv}\")"
   ]
  }
 ],
 "metadata": {
  "kernelspec": {
   "display_name": "Python 3",
   "language": "python",
   "name": "python3"
  },
  "language_info": {
   "codemirror_mode": {
    "name": "ipython",
    "version": 3
   },
   "file_extension": ".py",
   "mimetype": "text/x-python",
   "name": "python",
   "nbconvert_exporter": "python",
   "pygments_lexer": "ipython3",
   "version": "3.13.2"
  }
 },
 "nbformat": 4,
 "nbformat_minor": 5
}
