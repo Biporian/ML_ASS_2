{
 "cells": [
  {
   "cell_type": "code",
   "execution_count": null,
   "id": "d6bdd7f0",
   "metadata": {},
   "outputs": [],
   "source": [
    "from PIL import Image\n",
    "import os\n",
    "\n",
    "\n",
    "input_folder = './train'\n",
    "output_folder = './train_32x32'\n",
    "\n",
    "\n",
    "os.makedirs(output_folder, exist_ok=True)\n",
    "\n",
    "def center_crop_to_square(img):\n",
    "    width, height = img.size\n",
    "    min_dim = min(width, height)\n",
    "    left = (width - min_dim) // 2\n",
    "    top = (height - min_dim) // 2\n",
    "    right = left + min_dim\n",
    "    bottom = top + min_dim\n",
    "    return img.crop((left, top, right, bottom))\n",
    "\n",
    "for filename in os.listdir(input_folder):\n",
    "#for filename in ['img_000015.jpg']:\n",
    "    if filename.lower().endswith(('.png', '.jpg', '.jpeg', '.bmp', '.gif')):\n",
    "        img_path = os.path.join(input_folder, filename)\n",
    "        img = Image.open(img_path).convert('RGB')  \n",
    "\n",
    "\n",
    "        cropped = center_crop_to_square(img)\n",
    "\n",
    "\n",
    "        resized = cropped.resize((32, 32), Image.Resampling.LANCZOS)\n",
    "\n",
    "        resized.save(os.path.join(output_folder, filename))"
   ]
  },
  {
   "cell_type": "code",
   "execution_count": null,
   "id": "d52a69bf",
   "metadata": {},
   "outputs": [],
   "source": [
    "from PIL import Image, ImageEnhance\n",
    "import os\n",
    "\n",
    "input_folder = './train_32x32'\n",
    "output_folder = './train_32x32_gray_contrast'\n",
    "\n",
    "os.makedirs(output_folder, exist_ok=True)\n",
    "\n",
    "for filename in os.listdir(input_folder):\n",
    "#for filename in ['img_000015.jpg']:\n",
    "    if filename.lower().endswith(('.png', '.jpg', '.jpeg', '.bmp', '.gif')):\n",
    "        img_path = os.path.join(input_folder, filename)\n",
    "        img = Image.open(img_path).convert('L')  \n",
    "\n",
    "\n",
    "        enhancer = ImageEnhance.Contrast(img)\n",
    "        img_contrast = enhancer.enhance(4.0) \n",
    "\n",
    "        img_contrast.save(os.path.join(output_folder, filename))"
   ]
  },
  {
   "cell_type": "code",
   "execution_count": null,
   "id": "fed24d23",
   "metadata": {},
   "outputs": [
    {
     "name": "stdout",
     "output_type": "stream",
     "text": [
      "Saved 5488 image vectors to flattened_images.csv\n"
     ]
    }
   ],
   "source": [
    "from PIL import Image\n",
    "import numpy as np\n",
    "import os\n",
    "import pandas as pd\n",
    "\n",
    "input_folder = './train_32x32_gray_contrast'\n",
    "output_csv = 'flattened_images.csv'\n",
    "\n",
    "data = []\n",
    "\n",
    "for filename in os.listdir(input_folder):\n",
    "    if filename.lower().endswith(('.png', '.jpg', '.jpeg', '.bmp', '.gif')):\n",
    "        img_path = os.path.join(input_folder, filename)\n",
    "        img = Image.open(img_path).convert('L')  \n",
    "        img_resized = img.resize((32, 32), Image.Resampling.LANCZOS)\n",
    "        \n",
    "\n",
    "        arr = np.array(img_resized).flatten()  \n",
    "        \n",
    "\n",
    "        row = arr.tolist() + [filename]\n",
    "        data.append(row)\n",
    "\n",
    "\n",
    "column_names = [f'pixel_{i}' for i in range(1024)] + ['image_path']\n",
    "\n",
    "df = pd.DataFrame(data, columns=column_names)\n",
    "df.to_csv(output_csv, index=False)\n",
    "\n",
    "print(f\"Saved {len(df)} image vectors to {output_csv}\")"
   ]
  }
 ],
 "metadata": {
  "kernelspec": {
   "display_name": "Python 3",
   "language": "python",
   "name": "python3"
  },
  "language_info": {
   "codemirror_mode": {
    "name": "ipython",
    "version": 3
   },
   "file_extension": ".py",
   "mimetype": "text/x-python",
   "name": "python",
   "nbconvert_exporter": "python",
   "pygments_lexer": "ipython3",
   "version": "3.13.2"
  }
 },
 "nbformat": 4,
 "nbformat_minor": 5
}
